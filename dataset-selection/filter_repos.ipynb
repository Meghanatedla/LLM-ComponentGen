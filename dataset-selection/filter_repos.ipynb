{
 "cells": [
  {
   "cell_type": "code",
   "execution_count": 1,
   "metadata": {},
   "outputs": [],
   "source": [
    "import os \n",
    "import shutil"
   ]
  },
  {
   "cell_type": "code",
   "execution_count": 26,
   "metadata": {},
   "outputs": [],
   "source": [
    "repos_parent_dir = \"/home/shrikara/Downloads/pyLoad/wonderless/repos/repositories/repositories/AWS\"\n",
    "# repos_parent_dir = \"/home/shrikara/sample\"\n",
    "\n",
    "repos_with_test_dir = \"/home/shrikara/serverless_repos_with_test\""
   ]
  },
  {
   "cell_type": "code",
   "execution_count": 34,
   "metadata": {},
   "outputs": [],
   "source": [
    "def ignore_env_dir(directory, contents):\n",
    "    ignored_dirs = ['env', 'venv', 'envs']  # Add more virtual environment folder names if needed\n",
    "    return [d for d in contents if d in ignored_dirs]\n",
    "\n",
    "\n",
    "def has_test_files(repo_dir):\n",
    "\n",
    "    for root, dirs, files in os.walk(repo_dir):\n",
    "        for file in files:\n",
    "            if \"test\" in file.lower():\n",
    "                return True\n",
    "            \n",
    "    return False\n",
    "    \n",
    "\n",
    "\n",
    "def copy_repos_with_tests(parent_dir, dst_dir):\n",
    "\n",
    "    if not os.path.exists(dst_dir):\n",
    "        os.makedirs(dst_dir)\n",
    "\n",
    "    \n",
    "    repo_dirs = [d for d in os.listdir(parent_dir) if os.path.isdir(os.path.join(parent_dir, d))]\n",
    "\n",
    "    count = 0\n",
    "    for repo_dir in repo_dirs:\n",
    "        full_path = os.path.join(parent_dir, repo_dir)\n",
    "\n",
    "        if has_test_files(full_path):\n",
    "            print(f\"Test files found in {repo_dir}\")\n",
    "            try:\n",
    "                # Attempt to copy the repository\n",
    "                shutil.copytree(full_path, os.path.join(dst_dir, repo_dir), ignore=ignore_env_dir)\n",
    "                count += 1\n",
    "                # print(f\"Successfully copied {repo_dir} to {dst_dir}\")\n",
    "            except FileNotFoundError as fnf_error:\n",
    "                print(f\"FileNotFoundError: {fnf_error} for {repo_dir}\")\n",
    "            except PermissionError as perm_error:\n",
    "                print(f\"PermissionError: {perm_error} for {repo_dir}\")\n",
    "            except shutil.Error as sh_error:\n",
    "                print(f\"shutil.Error: {sh_error} while copying {repo_dir}\")\n",
    "            except Exception as e:\n",
    "                print(f\"Unexpected error: {e} while copying {repo_dir}\")\n",
    "\n",
    "    print(f\"Number of repos with tests: {count}\")"
   ]
  },
  {
   "cell_type": "code",
   "execution_count": null,
   "metadata": {},
   "outputs": [],
   "source": [
    "copy_repos_with_tests(repos_parent_dir, repos_with_test_dir)"
   ]
  },
  {
   "cell_type": "code",
   "execution_count": 39,
   "metadata": {},
   "outputs": [
    {
     "name": "stdout",
     "output_type": "stream",
     "text": [
      "Defaulting to user installation because normal site-packages is not writeable\n",
      "Collecting pandas\n",
      "  Downloading pandas-2.2.2-cp311-cp311-manylinux_2_17_x86_64.manylinux2014_x86_64.whl (13.0 MB)\n",
      "\u001b[2K     \u001b[38;2;114;156;31m━━━━━━━━━━━━━━━━━━━━━━━━━━━━━━━━━━━━━━━\u001b[0m \u001b[32m13.0/13.0 MB\u001b[0m \u001b[31m293.6 kB/s\u001b[0m eta \u001b[36m0:00:00\u001b[0mm eta \u001b[36m0:00:01\u001b[0m[36m0:00:02\u001b[0m\n",
      "\u001b[?25hCollecting tzdata>=2022.7\n",
      "  Using cached tzdata-2024.1-py2.py3-none-any.whl (345 kB)\n",
      "Requirement already satisfied: pytz>=2020.1 in /usr/lib/python3/dist-packages (from pandas) (2022.1)\n",
      "Requirement already satisfied: python-dateutil>=2.8.2 in /home/shrikara/.local/lib/python3.11/site-packages (from pandas) (2.9.0.post0)\n",
      "Collecting numpy>=1.23.2\n",
      "  Downloading numpy-2.1.0-cp311-cp311-manylinux_2_17_x86_64.manylinux2014_x86_64.whl (16.3 MB)\n",
      "\u001b[2K     \u001b[38;2;114;156;31m━━━━━━━━━━━━━━━━━━━━━━━━━━━━━━━━━━━━━━━\u001b[0m \u001b[32m16.3/16.3 MB\u001b[0m \u001b[31m920.8 kB/s\u001b[0m eta \u001b[36m0:00:00\u001b[0mm eta \u001b[36m0:00:01\u001b[0m[36m0:00:01\u001b[0m\n",
      "\u001b[?25hRequirement already satisfied: six>=1.5 in /usr/lib/python3/dist-packages (from python-dateutil>=2.8.2->pandas) (1.16.0)\n",
      "Installing collected packages: tzdata, numpy, pandas\n",
      "Successfully installed numpy-2.1.0 pandas-2.2.2 tzdata-2024.1\n",
      "Note: you may need to restart the kernel to use updated packages.\n"
     ]
    }
   ],
   "source": [
    "%pip install pandas"
   ]
  },
  {
   "cell_type": "code",
   "execution_count": 40,
   "metadata": {},
   "outputs": [],
   "source": [
    "import pandas as pd"
   ]
  },
  {
   "cell_type": "code",
   "execution_count": 42,
   "metadata": {},
   "outputs": [
    {
     "data": {
      "text/html": [
       "<div>\n",
       "<style scoped>\n",
       "    .dataframe tbody tr th:only-of-type {\n",
       "        vertical-align: middle;\n",
       "    }\n",
       "\n",
       "    .dataframe tbody tr th {\n",
       "        vertical-align: top;\n",
       "    }\n",
       "\n",
       "    .dataframe thead th {\n",
       "        text-align: right;\n",
       "    }\n",
       "</style>\n",
       "<table border=\"1\" class=\"dataframe\">\n",
       "  <thead>\n",
       "    <tr style=\"text-align: right;\">\n",
       "      <th></th>\n",
       "      <th>Project URLs</th>\n",
       "    </tr>\n",
       "  </thead>\n",
       "  <tbody>\n",
       "    <tr>\n",
       "      <th>0</th>\n",
       "      <td>https://github.com/corinja/serverless-starter-...</td>\n",
       "    </tr>\n",
       "    <tr>\n",
       "      <th>1</th>\n",
       "      <td>https://github.com/valscion/dissobot</td>\n",
       "    </tr>\n",
       "    <tr>\n",
       "      <th>2</th>\n",
       "      <td>https://github.com/3box/3box-graphql</td>\n",
       "    </tr>\n",
       "    <tr>\n",
       "      <th>3</th>\n",
       "      <td>https://github.com/alex-bu-89/auslaenderbehoer...</td>\n",
       "    </tr>\n",
       "    <tr>\n",
       "      <th>4</th>\n",
       "      <td>https://github.com/execonline-inc/bitmovin-thu...</td>\n",
       "    </tr>\n",
       "    <tr>\n",
       "      <th>...</th>\n",
       "      <td>...</td>\n",
       "    </tr>\n",
       "    <tr>\n",
       "      <th>1872</th>\n",
       "      <td>https://github.com/terraindata/terrain</td>\n",
       "    </tr>\n",
       "    <tr>\n",
       "      <th>1873</th>\n",
       "      <td>https://github.com/RyanOM/motivationalBot</td>\n",
       "    </tr>\n",
       "    <tr>\n",
       "      <th>1874</th>\n",
       "      <td>https://github.com/shalvah/DownloadThisVideo</td>\n",
       "    </tr>\n",
       "    <tr>\n",
       "      <th>1875</th>\n",
       "      <td>https://github.com/ProGM/node-html2pdf</td>\n",
       "    </tr>\n",
       "    <tr>\n",
       "      <th>1876</th>\n",
       "      <td>https://github.com/otbe/ktor-server-lambda</td>\n",
       "    </tr>\n",
       "  </tbody>\n",
       "</table>\n",
       "<p>1877 rows × 1 columns</p>\n",
       "</div>"
      ],
      "text/plain": [
       "                                           Project URLs\n",
       "0     https://github.com/corinja/serverless-starter-...\n",
       "1                  https://github.com/valscion/dissobot\n",
       "2                  https://github.com/3box/3box-graphql\n",
       "3     https://github.com/alex-bu-89/auslaenderbehoer...\n",
       "4     https://github.com/execonline-inc/bitmovin-thu...\n",
       "...                                                 ...\n",
       "1872             https://github.com/terraindata/terrain\n",
       "1873          https://github.com/RyanOM/motivationalBot\n",
       "1874       https://github.com/shalvah/DownloadThisVideo\n",
       "1875             https://github.com/ProGM/node-html2pdf\n",
       "1876         https://github.com/otbe/ktor-server-lambda\n",
       "\n",
       "[1877 rows x 1 columns]"
      ]
     },
     "execution_count": 42,
     "metadata": {},
     "output_type": "execute_result"
    }
   ],
   "source": [
    "repo_urls =pd.read_csv(\"dataset.csv\")\n",
    "repo_urls"
   ]
  },
  {
   "cell_type": "code",
   "execution_count": 43,
   "metadata": {},
   "outputs": [],
   "source": [
    "import csv"
   ]
  },
  {
   "cell_type": "code",
   "execution_count": 48,
   "metadata": {},
   "outputs": [],
   "source": [
    "def read_urls(file_path):\n",
    "\n",
    "    repo_urls = []\n",
    "    with open(file_path, mode=\"r\") as csv_file:\n",
    "        csv_reader = csv.reader(csv_file)\n",
    "        for row in csv_reader:\n",
    "            if row:\n",
    "                repo_urls.append(row[0])\n",
    "\n",
    "    return repo_urls[1:]"
   ]
  },
  {
   "cell_type": "code",
   "execution_count": 50,
   "metadata": {},
   "outputs": [
    {
     "data": {
      "text/plain": [
       "1877"
      ]
     },
     "execution_count": 50,
     "metadata": {},
     "output_type": "execute_result"
    }
   ],
   "source": [
    "repo_urls = read_urls(\"dataset.csv\")\n",
    "len(repo_urls)"
   ]
  },
  {
   "cell_type": "code",
   "execution_count": 52,
   "metadata": {},
   "outputs": [],
   "source": [
    "import requests"
   ]
  },
  {
   "cell_type": "code",
   "execution_count": 53,
   "metadata": {},
   "outputs": [],
   "source": [
    "def get_repo_stars(repo_url):\n",
    "\n",
    "    parts = repo_url.rstrip('/').split('/')\n",
    "    owner = parts[-2]\n",
    "    repo = parts[-1]\n",
    "\n",
    "    api_url = f\"https://api.github.com/repos/{owner}/{repo}\"\n",
    "\n",
    "    try:\n",
    "        response = requests.get(api_url)\n",
    "        response.raise_for_status()\n",
    "        repo_data = response.json()\n",
    "        return repo_data.get('stargazers_count', 0)\n",
    "    except requests.exceptions.RequestException as e:\n",
    "        print(f\"Error fetching star from {repo_url}: e\")\n",
    "        return None\n",
    "    "
   ]
  },
  {
   "cell_type": "code",
   "execution_count": null,
   "metadata": {},
   "outputs": [],
   "source": []
  }
 ],
 "metadata": {
  "kernelspec": {
   "display_name": "Python 3",
   "language": "python",
   "name": "python3"
  },
  "language_info": {
   "codemirror_mode": {
    "name": "ipython",
    "version": 3
   },
   "file_extension": ".py",
   "mimetype": "text/x-python",
   "name": "python",
   "nbconvert_exporter": "python",
   "pygments_lexer": "ipython3",
   "version": "3.11.0rc1"
  }
 },
 "nbformat": 4,
 "nbformat_minor": 2
}
