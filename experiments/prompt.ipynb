{
 "cells": [
  {
   "cell_type": "code",
   "execution_count": 2,
   "metadata": {},
   "outputs": [],
   "source": [
    "from OpenAIModel import OpenAIModel"
   ]
  },
  {
   "cell_type": "code",
   "execution_count": 3,
   "metadata": {},
   "outputs": [],
   "source": [
    "model = OpenAIModel(\"gpt-4\")"
   ]
  },
  {
   "cell_type": "code",
   "execution_count": 6,
   "metadata": {},
   "outputs": [],
   "source": [
    "with open(\"prompt-templates/codebase-summarization-prompt-template.txt\", \"r\") as file:\n",
    "    codebase_summarization_prompt_template = file.read()"
   ]
  },
  {
   "cell_type": "code",
   "execution_count": 7,
   "metadata": {},
   "outputs": [
    {
     "name": "stdout",
     "output_type": "stream",
     "text": [
      "You are a computer scientist specializing in serverless computing (especially FaaS) and your task is to summarize the entire codebase provided below so that other developers may use it when adding more functions to this codebase. Please ensure that it is a detailed summary and includes the following details:\n",
      "\n",
      "1. A high-level overview of the main functionalities offered by the codebase, highlighting key modules or components.\n",
      "2. A breakdown of important functions and what specific tasks or executions they handle.\n",
      "3. Identify any external dependencies, libraries, or frameworks the code relies on, and describe how they are integrated into the codebase.\n",
      "4. Describe the overall structure of the codebase (e.g., how files are organized, major classes or modules).\n",
      "5. Explain any relationships or interactions between different modules or components, such as how data flows between them. \n",
      "\n",
      "Note that your summary must be detailed enough that a developer can start implementing a new function by solely consulting your summary and without looking at the rest of the codebase. So, if there are any practices/styles followed in the rest of the codebase you must mention it. If there is a dependency/framework used in every function you must mention it. Make sure you mention the language the codebase is in. Now that you understand these guidelines, here is the codebase, with the path name of the file (from which you will infer the language) followed by the contents of the file in triple backticks:\n"
     ]
    }
   ],
   "source": [
    "print(codebase_summarization_prompt_template)"
   ]
  },
  {
   "cell_type": "code",
   "execution_count": 8,
   "metadata": {},
   "outputs": [],
   "source": [
    "prompt = f\"\"\"\n",
    "You are a prompt engineer and your task is to fine tune the prompt written by the developer. \n",
    "The developer has provided the prompt below, generate 3 versions of the prompt.\n",
    "{codebase_summarization_prompt_template}\n",
    "\"\"\""
   ]
  },
  {
   "cell_type": "code",
   "execution_count": 9,
   "metadata": {},
   "outputs": [
    {
     "name": "stdout",
     "output_type": "stream",
     "text": [
      "1. \n",
      "As a computer scientist specializing in serverless computing, specifically FaaS, your task is to construct a comprehensive summary of the given codebase. This should be usable as a guide for other developers intending to build additional functions into the codebase. Your summary should contain: \n",
      "\n",
      "    a. A concise overview of the principal functionalities offered by the codebase,   spotlighting any pivotal modules or elements.\n",
      "   \n",
      "    b. Detailed analysis of significant functions, including what specific tasks or executions they preside over.\n",
      "   \n",
      "    c. Recognization any external dependencies, libraries, or frameworks that the code uses, and give a description of how they are incorporated into the codebase.\n",
      "   \n",
      "    d. A depiction of the overall structure of the codebase, such as the organization of files, significant classes, or modules.\n",
      "    \n",
      "    e. Clarification of any relationships or interplays between different modules or elements, and how data transfers between them.\n",
      "    \n",
      "Remember, your summary should be detailed enough so that a developer can implement a new function using just your summary without having to reference the codebase. Please include any practices, styles followed in the codebase, and dependencies/frameworks used in every function, and don't forget to mention the codebase language. On this note, please find the codebase below, where the filename (from which you will derive the language) is followed by the contents of the file enclosed in triple backticks:\n",
      "\n",
      "2. \n",
      "As a computer scientist with a specialty in serverless computing, specifically FaaS, you are tasked with creating an in-depth overview of the shared codebase. This overview should be sufficient for other developers to add fresh functionalities to the codebase. Please ensure your summary includes the following:\n",
      "\n",
      "    a. A comprehensive overview of the key functionalities the codebase offers, with a focus on main modules or components.\n",
      "   \n",
      "    b. An explanation of crucial functions, including the specific tasks or actions they perform.\n",
      "   \n",
      "    c. Identification and explanation of any external dependencies, libraries, or frameworks that the codebase needs, and how these are incorporated into the codebase.\n",
      "   \n",
      "    d. A description of the overall structure of the codebase, for instance, the organization of files, major classes, or modules.\n",
      "   \n",
      "    e. A discussion of the relations or connections between different modules or components, such as data flow amongst them. \n",
      "\n",
      "Your summary should be so detailed that a developer could seamlessly implement a new function by merely referring to your summary, without having to study the rest of the codebase. Be sure to mention any unique practices or styles adhered to in the codebase or a dependency or framework used across all functions. Remember to mention the codebase's language. Now that you've understood these directives, you'll find the codebase below, where the file's path name indicates the language followed by the file's contents in triple backticks:\n",
      "\n",
      "3. \n",
      "As a computer scientist practicing in the realm of serverless computing, particularly FaaS, your mission is to briefly describe the entire codebase supplied below. This summary should enable other developers to easily add further functionalities to the codebase. Please provide:\n",
      "\n",
      "    a. An overview of the main functionalities provided by the codebase, pinpointing notable modules or components.\n",
      "   \n",
      "    b. A detailed examination of essential functions and the distinct tasks or operations they undertake.\n",
      "   \n",
      "    c. Indicate any outside dependencies, libraries, or frameworks the code is dependent upon and describe their integration into the codebase.\n",
      "   \n",
      "    d. A depiction of the general structure of the codebase such as the arrangement of files, salient classes, or modules.\n",
      "   \n",
      "    e. A clear explanation of the associations or interactions between different components or modules, like the flow of data amongst them. \n",
      "\n",
      "The summary should be so comprehensive that a developer could employ a new function solely by consulting your summary, without the need to skim through the rest of the codebase. Any prevalent practices or styles in use throughout the codebase should be mentioned, as well as any dependencies or frameworks that each function relies upon. Also, communicate the language the codebase is written in. Now that the conditions are clear, here is the codebase. Each file's path name will give you the language, with the contents of the file following in triple backticks:\n"
     ]
    }
   ],
   "source": [
    "response = model.generate(prompt)\n",
    "print(response)"
   ]
  },
  {
   "cell_type": "code",
   "execution_count": null,
   "metadata": {},
   "outputs": [],
   "source": []
  }
 ],
 "metadata": {
  "kernelspec": {
   "display_name": "Python 3",
   "language": "python",
   "name": "python3"
  },
  "language_info": {
   "codemirror_mode": {
    "name": "ipython",
    "version": 3
   },
   "file_extension": ".py",
   "mimetype": "text/x-python",
   "name": "python",
   "nbconvert_exporter": "python",
   "pygments_lexer": "ipython3",
   "version": "3.11.0rc1"
  }
 },
 "nbformat": 4,
 "nbformat_minor": 2
}
