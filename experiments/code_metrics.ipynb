{
 "cells": [
  {
   "cell_type": "markdown",
   "metadata": {},
   "source": [
    "# Imports and helpers"
   ]
  },
  {
   "cell_type": "code",
   "execution_count": 1,
   "metadata": {},
   "outputs": [],
   "source": [
    "from pygount import SourceAnalysis\n",
    "import os\n",
    "import json\n",
    "import shutil\n",
    "from dotenv import load_dotenv\n",
    "from complexipy import file_complexity\n",
    "from tqdm.notebook import tqdm\n",
    "import numpy as np\n",
    "import pandas as pd\n",
    "from radon.complexity import cc_visit\n",
    "import subprocess\n",
    "import re\n",
    "import radon\n",
    "import radon.metrics\n"
   ]
  },
  {
   "cell_type": "code",
   "execution_count": 2,
   "metadata": {},
   "outputs": [
    {
     "data": {
      "text/plain": [
       "True"
      ]
     },
     "execution_count": 2,
     "metadata": {},
     "output_type": "execute_result"
    }
   ],
   "source": [
    "load_dotenv()\n"
   ]
  },
  {
   "cell_type": "code",
   "execution_count": 3,
   "metadata": {},
   "outputs": [],
   "source": [
    "def validate_config(config: dict):\n",
    "    required_keys = [\n",
    "    \"language\", \"summarize_codebase\", \"codebase_readme_path\", \"files_to_summarize_paths\", \"codebase_summary_prompt_template\", \"codebase_summary_prompt_save_path\", \"codebase_summary_save_path\", \"function_description_prompt_template\", \"function_description_prompt_save_path\", \"function_description_save_path\",  \"function_generation_prompt_template_type1\", \"function_generation_prompt_type1_save_path\", \"function_generation_prompt_template_type2\", \"function_generation_prompt_type2_save_path\", \"function_generation_prompt_template_type3\", \"function_generation_prompt_type3_save_path\", \"chosen_function_path\", \"chosen_function\", \"original_function_save_path\", \"example_function_description1\", \"example_function_code1\", \"example_function_description2\", \"example_function_code2\", \"generated_function_type1_save_dir\", \"generated_function_type2_save_dir\", \"generated_function_type3_save_dir\", \"run_codebleu\", \"codebleu_type1_save_dir\", \"codebleu_type2_save_dir\", \"codebleu_type3_save_dir\"     \n",
    "    ]\n",
    "    \n",
    "    for key in required_keys:\n",
    "        if key not in config:\n",
    "            raise ValueError(f\"Missing required key: {key}\")\n"
   ]
  },
  {
   "cell_type": "code",
   "execution_count": 4,
   "metadata": {},
   "outputs": [],
   "source": [
    "model_names = [\n",
    "    \"GPT-3_5-Turbo\", \n",
    "    \"GPT-4\", \n",
    "    \"DeepSeek-Coder-V2\", \n",
    "    \"CodeQwen1_5-7B-Chat\", \n",
    "    \"Artigenz-Coder-DS-6_7B\"\n",
    "]\n",
    "type_names = [\"type1\", \"type2\", \"type3\"]\n"
   ]
  },
  {
   "cell_type": "code",
   "execution_count": 5,
   "metadata": {},
   "outputs": [],
   "source": [
    "def read_config_files_index(file_index_path: str):\n",
    "    with open(file_index_path, 'r') as f:\n",
    "        remaining_confs_paths = f.read().splitlines()\n",
    "\n",
    "    remaining_confs = []\n",
    "    for cf_path in remaining_confs_paths:\n",
    "        conf = json.load(open(cf_path))\n",
    "        try:\n",
    "            validate_config(conf)\n",
    "            remaining_confs.append(conf)\n",
    "        except Exception as e:\n",
    "            print(f\"Error in {cf_path}: {e}\")\n",
    "    \n",
    "    return remaining_confs\n"
   ]
  },
  {
   "cell_type": "code",
   "execution_count": 6,
   "metadata": {},
   "outputs": [],
   "source": [
    "def load_func_generation_prompts(config):\n",
    "    with open(config['function_generation_prompt_type1_save_path'], 'r') as f:\n",
    "        function_generation_prompt_type1 = f.read()\n",
    "    \n",
    "    with open(config['function_generation_prompt_type2_save_path'], 'r') as f:\n",
    "        function_generation_prompt_type2 = f.read()\n",
    "\n",
    "    function_generation_prompt_type3 = \"\"\n",
    "    if config[\"function_generation_prompt_type3_save_path\"] != \"\":\n",
    "        with open(config['function_generation_prompt_type3_save_path'], 'r') as f:\n",
    "            function_generation_prompt_type3 = f.read()\n",
    "\n",
    "    return function_generation_prompt_type1, function_generation_prompt_type2, function_generation_prompt_type3\n"
   ]
  },
  {
   "cell_type": "code",
   "execution_count": 7,
   "metadata": {},
   "outputs": [],
   "source": [
    "def get_loc(filepath: str):\n",
    "    analysis = SourceAnalysis.from_file(filepath, \"pygount\")\n",
    "    return analysis.code\n"
   ]
  },
  {
   "cell_type": "code",
   "execution_count": 8,
   "metadata": {},
   "outputs": [],
   "source": [
    "def get_cog_complexity_py(filepath: str):\n",
    "    fc = file_complexity(filepath)\n",
    "    return fc.complexity\n"
   ]
  },
  {
   "cell_type": "code",
   "execution_count": 9,
   "metadata": {},
   "outputs": [],
   "source": [
    "def get_cog_complexity_js(js_file):\n",
    "    try:\n",
    "        result = subprocess.run(\n",
    "            ['npx', 'ccts-json', js_file],\n",
    "            capture_output=True, check=True\n",
    "        )\n",
    "        text = result.stdout.decode('utf-8').strip()\n",
    "        cleaned_text = re.sub(r'\\x1b\\[[0-9;]*m', '', text)\n",
    "        json_res = json.loads(cleaned_text)\n",
    "\n",
    "        cog_complexity = next(iter(json_res.values()))['score'] # get the score from the first value in the json\n",
    "        return cog_complexity\n",
    "\n",
    "    except subprocess.CalledProcessError as e:\n",
    "        print(f\"Error running js cyclomatic complexity calculator: {e}\")\n",
    "        return None\n"
   ]
  },
  {
   "cell_type": "code",
   "execution_count": 10,
   "metadata": {},
   "outputs": [],
   "source": [
    "def get_cc_py(python_file_path: str):\n",
    "    with open(python_file_path, 'r') as f:\n",
    "        code = f.read()\n",
    "\n",
    "    complexity_list = cc_visit(code)\n",
    "    cc = sum(comp.complexity for comp in complexity_list)\n",
    "    return cc\n"
   ]
  },
  {
   "cell_type": "code",
   "execution_count": 11,
   "metadata": {},
   "outputs": [],
   "source": [
    "def get_cc_js(js_file):\n",
    "    try:\n",
    "        result = subprocess.run(\n",
    "            ['node', 'js_code_metrics.js', js_file],\n",
    "            capture_output=True, check=True\n",
    "        )\n",
    "        text = result.stdout.decode('utf-8').strip()\n",
    "        cleaned_text = re.sub(r'\\x1b\\[[0-9;]*m', '', text)\n",
    "        complexity = int(cleaned_text.split()[-1])\n",
    "        return complexity\n",
    "\n",
    "    except subprocess.CalledProcessError as e:\n",
    "        print(f\"Error running js cyclomatic complexity calculator: {e}\")\n",
    "        return None\n"
   ]
  },
  {
   "cell_type": "code",
   "execution_count": 12,
   "metadata": {},
   "outputs": [],
   "source": [
    "def get_halstead_py(filepath: str):\n",
    "    with open(filepath, 'r') as f:\n",
    "        code = f.read()\n",
    "\n",
    "    halstead_res = radon.metrics.h_visit(code)\n",
    "    return halstead_res.total.volume\n"
   ]
  },
  {
   "cell_type": "code",
   "execution_count": 13,
   "metadata": {},
   "outputs": [],
   "source": [
    "def get_halstead_js(js_file):\n",
    "    try:\n",
    "        result = subprocess.run(\n",
    "            ['node', 'js_halstead.js', js_file],\n",
    "            capture_output=True, check=True\n",
    "        )\n",
    "        text = result.stdout.decode('utf-8').strip()\n",
    "        cleaned_text = re.sub(r'\\x1b\\[[0-9;]*m', '', text)\n",
    "        halstead = float(cleaned_text.split()[-1])\n",
    "        return halstead\n",
    "\n",
    "    except subprocess.CalledProcessError as e:\n",
    "        print(f\"Error running js cyclomatic complexity calculator: {e}\")\n",
    "        return None\n"
   ]
  },
  {
   "cell_type": "code",
   "execution_count": 14,
   "metadata": {},
   "outputs": [],
   "source": [
    "def get_name(config):\n",
    "    # return \"/\".join(config['original_function_save_path'].split('/')[:-1])\n",
    "    repo, func = config['original_function_save_path'].split('/')[:-1]\n",
    "    return repo, func[-1]\n"
   ]
  },
  {
   "cell_type": "code",
   "execution_count": 15,
   "metadata": {},
   "outputs": [],
   "source": [
    "def get_function_paths(config:dict, model_name: str, prompt_type: str, generation_num: int=1):\n",
    "    \"\"\"Get the path to original code and generated code for a specific model and prompt type.\n",
    "\n",
    "    Args:\n",
    "        config (dict): The experiment config \n",
    "        model_name (str): name of model, one of [\"GPT-3_5-Turbo\", \"GPT-4\", \"DeepSeek-Coder-V2\", \"CodeQwen1_5-7B-Chat\", \"Artigenz-Coder-DS-6_7B\"]\n",
    "        prompt_type (str): prompt type, one of [\"type1\", \"type2\", \"type3\"]\n",
    "        generation_num (int): This is the generation_num th generated function. Defaults to 1.\n",
    "    \"\"\"\n",
    "    generated_function_save_dirs = {\n",
    "        \"type1\": config['generated_function_type1_save_dir'],\n",
    "        \"type2\": config['generated_function_type2_save_dir'],\n",
    "        \"type3\": config['generated_function_type3_save_dir']\n",
    "    }\n",
    "\n",
    "    filename = config['chosen_function'].split(\".\")\n",
    "    generated_function_save_filename = f\"{filename[0]}_{generation_num}.{filename[1]}\"\n",
    "    generated_function_save_path = f\"{generated_function_save_dirs[prompt_type]}/{model_name}/GENERATED-{generated_function_save_filename}\"\n",
    "    original_function_save_path = config['original_function_save_path']\n",
    "\n",
    "    return {\"original\": original_function_save_path, \"generated\": generated_function_save_path}\n"
   ]
  },
  {
   "cell_type": "markdown",
   "metadata": {},
   "source": [
    "---\n",
    "# Running on all configs"
   ]
  },
  {
   "cell_type": "code",
   "execution_count": 16,
   "metadata": {},
   "outputs": [
    {
     "name": "stdout",
     "output_type": "stream",
     "text": [
      "read 10 config files\n"
     ]
    }
   ],
   "source": [
    "configs = read_config_files_index(\"localllm_remaining_confs.txt\")\n",
    "print(f\"read {len(configs)} config files\")\n"
   ]
  },
  {
   "cell_type": "code",
   "execution_count": 17,
   "metadata": {},
   "outputs": [
    {
     "data": {
      "application/vnd.jupyter.widget-view+json": {
       "model_id": "eb25f7192b0545fba94fa6c3b2a65c71",
       "version_major": 2,
       "version_minor": 0
      },
      "text/plain": [
       "Configs:   0%|          | 0/10 [00:00<?, ?it/s]"
      ]
     },
     "metadata": {},
     "output_type": "display_data"
    },
    {
     "data": {
      "application/vnd.jupyter.widget-view+json": {
       "model_id": "75a291208c51484bba2f07aa189fcdd7",
       "version_major": 2,
       "version_minor": 0
      },
      "text/plain": [
       "models:   0%|          | 0/5 [00:00<?, ?it/s]"
      ]
     },
     "metadata": {},
     "output_type": "display_data"
    },
    {
     "data": {
      "application/vnd.jupyter.widget-view+json": {
       "model_id": "1978fc81536d4826916e56a7ffe5baee",
       "version_major": 2,
       "version_minor": 0
      },
      "text/plain": [
       "prompt types:   0%|          | 0/3 [00:00<?, ?it/s]"
      ]
     },
     "metadata": {},
     "output_type": "display_data"
    },
    {
     "data": {
      "application/vnd.jupyter.widget-view+json": {
       "model_id": "60888d13975840a3b143e9cbef6148a2",
       "version_major": 2,
       "version_minor": 0
      },
      "text/plain": [
       "prompt types:   0%|          | 0/3 [00:00<?, ?it/s]"
      ]
     },
     "metadata": {},
     "output_type": "display_data"
    },
    {
     "data": {
      "application/vnd.jupyter.widget-view+json": {
       "model_id": "eb4c3a202f9c41f3b8edd6e08cb579f3",
       "version_major": 2,
       "version_minor": 0
      },
      "text/plain": [
       "prompt types:   0%|          | 0/3 [00:00<?, ?it/s]"
      ]
     },
     "metadata": {},
     "output_type": "display_data"
    },
    {
     "data": {
      "application/vnd.jupyter.widget-view+json": {
       "model_id": "b64b84b6ccf1421f894c4dd31e4f4e46",
       "version_major": 2,
       "version_minor": 0
      },
      "text/plain": [
       "prompt types:   0%|          | 0/3 [00:00<?, ?it/s]"
      ]
     },
     "metadata": {},
     "output_type": "display_data"
    },
    {
     "data": {
      "application/vnd.jupyter.widget-view+json": {
       "model_id": "b4cb9241233446d19ec63fa6868b7cde",
       "version_major": 2,
       "version_minor": 0
      },
      "text/plain": [
       "prompt types:   0%|          | 0/3 [00:00<?, ?it/s]"
      ]
     },
     "metadata": {},
     "output_type": "display_data"
    },
    {
     "data": {
      "application/vnd.jupyter.widget-view+json": {
       "model_id": "cab13b270675491ea007148c9f190ba9",
       "version_major": 2,
       "version_minor": 0
      },
      "text/plain": [
       "models:   0%|          | 0/5 [00:00<?, ?it/s]"
      ]
     },
     "metadata": {},
     "output_type": "display_data"
    },
    {
     "data": {
      "application/vnd.jupyter.widget-view+json": {
       "model_id": "43e47897d99349f1aa0acdcada99bb39",
       "version_major": 2,
       "version_minor": 0
      },
      "text/plain": [
       "prompt types:   0%|          | 0/3 [00:00<?, ?it/s]"
      ]
     },
     "metadata": {},
     "output_type": "display_data"
    },
    {
     "data": {
      "application/vnd.jupyter.widget-view+json": {
       "model_id": "1af1b9fbec754a2ba5881f2bf3861340",
       "version_major": 2,
       "version_minor": 0
      },
      "text/plain": [
       "prompt types:   0%|          | 0/3 [00:00<?, ?it/s]"
      ]
     },
     "metadata": {},
     "output_type": "display_data"
    },
    {
     "data": {
      "application/vnd.jupyter.widget-view+json": {
       "model_id": "f3f2d2f864854e62b8a4174e0205fee8",
       "version_major": 2,
       "version_minor": 0
      },
      "text/plain": [
       "prompt types:   0%|          | 0/3 [00:00<?, ?it/s]"
      ]
     },
     "metadata": {},
     "output_type": "display_data"
    },
    {
     "data": {
      "application/vnd.jupyter.widget-view+json": {
       "model_id": "0469be9d977a4add810fab12c5509b39",
       "version_major": 2,
       "version_minor": 0
      },
      "text/plain": [
       "prompt types:   0%|          | 0/3 [00:00<?, ?it/s]"
      ]
     },
     "metadata": {},
     "output_type": "display_data"
    },
    {
     "data": {
      "application/vnd.jupyter.widget-view+json": {
       "model_id": "fc1cc1de068c44bd9f3701793c386b86",
       "version_major": 2,
       "version_minor": 0
      },
      "text/plain": [
       "prompt types:   0%|          | 0/3 [00:00<?, ?it/s]"
      ]
     },
     "metadata": {},
     "output_type": "display_data"
    },
    {
     "data": {
      "application/vnd.jupyter.widget-view+json": {
       "model_id": "f621526a66fa4e55b92c4239399f6cbe",
       "version_major": 2,
       "version_minor": 0
      },
      "text/plain": [
       "models:   0%|          | 0/5 [00:00<?, ?it/s]"
      ]
     },
     "metadata": {},
     "output_type": "display_data"
    },
    {
     "data": {
      "application/vnd.jupyter.widget-view+json": {
       "model_id": "567e02997379462c9ce48ed2a078e2d5",
       "version_major": 2,
       "version_minor": 0
      },
      "text/plain": [
       "prompt types:   0%|          | 0/3 [00:00<?, ?it/s]"
      ]
     },
     "metadata": {},
     "output_type": "display_data"
    },
    {
     "name": "stdout",
     "output_type": "stream",
     "text": [
      "Error running js cyclomatic complexity calculator: Command '['node', 'js_code_metrics.js', 'craftship_codebox-npm/function3/GENERATED/type3/GPT-3_5-Turbo/GENERATED-put_1.js']' returned non-zero exit status 1.\n",
      "Error running js cyclomatic complexity calculator: Command '['node', 'js_halstead.js', 'craftship_codebox-npm/function3/GENERATED/type3/GPT-3_5-Turbo/GENERATED-put_1.js']' returned non-zero exit status 1.\n"
     ]
    },
    {
     "data": {
      "application/vnd.jupyter.widget-view+json": {
       "model_id": "95daa29d38e94561ac8193621359b6e0",
       "version_major": 2,
       "version_minor": 0
      },
      "text/plain": [
       "prompt types:   0%|          | 0/3 [00:00<?, ?it/s]"
      ]
     },
     "metadata": {},
     "output_type": "display_data"
    },
    {
     "data": {
      "application/vnd.jupyter.widget-view+json": {
       "model_id": "ae08e9e03e6742c5b3ce1c090300a493",
       "version_major": 2,
       "version_minor": 0
      },
      "text/plain": [
       "prompt types:   0%|          | 0/3 [00:00<?, ?it/s]"
      ]
     },
     "metadata": {},
     "output_type": "display_data"
    },
    {
     "data": {
      "application/vnd.jupyter.widget-view+json": {
       "model_id": "a2141489ee534b77a71d3afe747225d6",
       "version_major": 2,
       "version_minor": 0
      },
      "text/plain": [
       "prompt types:   0%|          | 0/3 [00:00<?, ?it/s]"
      ]
     },
     "metadata": {},
     "output_type": "display_data"
    },
    {
     "name": "stdout",
     "output_type": "stream",
     "text": [
      "Error running js cyclomatic complexity calculator: Command '['node', 'js_code_metrics.js', 'craftship_codebox-npm/function3/GENERATED/type1/CodeQwen1_5-7B-Chat/GENERATED-put_1.js']' returned non-zero exit status 1.\n",
      "Error running js cyclomatic complexity calculator: Command '['node', 'js_halstead.js', 'craftship_codebox-npm/function3/GENERATED/type1/CodeQwen1_5-7B-Chat/GENERATED-put_1.js']' returned non-zero exit status 1.\n"
     ]
    },
    {
     "data": {
      "application/vnd.jupyter.widget-view+json": {
       "model_id": "33d524ef1aab45d3a618277268919aa5",
       "version_major": 2,
       "version_minor": 0
      },
      "text/plain": [
       "prompt types:   0%|          | 0/3 [00:00<?, ?it/s]"
      ]
     },
     "metadata": {},
     "output_type": "display_data"
    },
    {
     "data": {
      "application/vnd.jupyter.widget-view+json": {
       "model_id": "a6dde59e92fe4290a2ab97476efc9920",
       "version_major": 2,
       "version_minor": 0
      },
      "text/plain": [
       "models:   0%|          | 0/5 [00:00<?, ?it/s]"
      ]
     },
     "metadata": {},
     "output_type": "display_data"
    },
    {
     "data": {
      "application/vnd.jupyter.widget-view+json": {
       "model_id": "e5100281c0c349f4b3421016dd657220",
       "version_major": 2,
       "version_minor": 0
      },
      "text/plain": [
       "prompt types:   0%|          | 0/3 [00:00<?, ?it/s]"
      ]
     },
     "metadata": {},
     "output_type": "display_data"
    },
    {
     "data": {
      "application/vnd.jupyter.widget-view+json": {
       "model_id": "15fcad3c6acb48ddabe555aecc683ccd",
       "version_major": 2,
       "version_minor": 0
      },
      "text/plain": [
       "prompt types:   0%|          | 0/3 [00:00<?, ?it/s]"
      ]
     },
     "metadata": {},
     "output_type": "display_data"
    },
    {
     "data": {
      "application/vnd.jupyter.widget-view+json": {
       "model_id": "b2dffdb279cf46cb9d8febfb72f55359",
       "version_major": 2,
       "version_minor": 0
      },
      "text/plain": [
       "prompt types:   0%|          | 0/3 [00:00<?, ?it/s]"
      ]
     },
     "metadata": {},
     "output_type": "display_data"
    },
    {
     "data": {
      "application/vnd.jupyter.widget-view+json": {
       "model_id": "9492be345ba9427b9a70871a7196ba08",
       "version_major": 2,
       "version_minor": 0
      },
      "text/plain": [
       "prompt types:   0%|          | 0/3 [00:00<?, ?it/s]"
      ]
     },
     "metadata": {},
     "output_type": "display_data"
    },
    {
     "data": {
      "application/vnd.jupyter.widget-view+json": {
       "model_id": "695a2f8879af4536b5c3099e685c1aef",
       "version_major": 2,
       "version_minor": 0
      },
      "text/plain": [
       "prompt types:   0%|          | 0/3 [00:00<?, ?it/s]"
      ]
     },
     "metadata": {},
     "output_type": "display_data"
    },
    {
     "data": {
      "application/vnd.jupyter.widget-view+json": {
       "model_id": "d489e0825408498fb00629d9214747d6",
       "version_major": 2,
       "version_minor": 0
      },
      "text/plain": [
       "models:   0%|          | 0/5 [00:00<?, ?it/s]"
      ]
     },
     "metadata": {},
     "output_type": "display_data"
    },
    {
     "data": {
      "application/vnd.jupyter.widget-view+json": {
       "model_id": "1fa00ed063e94d2fa8797f87d0114e82",
       "version_major": 2,
       "version_minor": 0
      },
      "text/plain": [
       "prompt types:   0%|          | 0/3 [00:00<?, ?it/s]"
      ]
     },
     "metadata": {},
     "output_type": "display_data"
    },
    {
     "data": {
      "application/vnd.jupyter.widget-view+json": {
       "model_id": "ccf3399a9b4f4d8bbbc2369edd4c3096",
       "version_major": 2,
       "version_minor": 0
      },
      "text/plain": [
       "prompt types:   0%|          | 0/3 [00:00<?, ?it/s]"
      ]
     },
     "metadata": {},
     "output_type": "display_data"
    },
    {
     "data": {
      "application/vnd.jupyter.widget-view+json": {
       "model_id": "5cfebce0d9924851a6bd522d00a0d1ab",
       "version_major": 2,
       "version_minor": 0
      },
      "text/plain": [
       "prompt types:   0%|          | 0/3 [00:00<?, ?it/s]"
      ]
     },
     "metadata": {},
     "output_type": "display_data"
    },
    {
     "data": {
      "application/vnd.jupyter.widget-view+json": {
       "model_id": "dc9be2bb24514d8fb049a764069d358d",
       "version_major": 2,
       "version_minor": 0
      },
      "text/plain": [
       "prompt types:   0%|          | 0/3 [00:00<?, ?it/s]"
      ]
     },
     "metadata": {},
     "output_type": "display_data"
    },
    {
     "data": {
      "application/vnd.jupyter.widget-view+json": {
       "model_id": "88d461811ba74d58a7a5eba2591fcd65",
       "version_major": 2,
       "version_minor": 0
      },
      "text/plain": [
       "prompt types:   0%|          | 0/3 [00:00<?, ?it/s]"
      ]
     },
     "metadata": {},
     "output_type": "display_data"
    },
    {
     "data": {
      "application/vnd.jupyter.widget-view+json": {
       "model_id": "91000ee8ec4f4a5e9a945c6f69a8d2ed",
       "version_major": 2,
       "version_minor": 0
      },
      "text/plain": [
       "models:   0%|          | 0/5 [00:00<?, ?it/s]"
      ]
     },
     "metadata": {},
     "output_type": "display_data"
    },
    {
     "data": {
      "application/vnd.jupyter.widget-view+json": {
       "model_id": "6d044644e12d4329b90c92ce673d81db",
       "version_major": 2,
       "version_minor": 0
      },
      "text/plain": [
       "prompt types:   0%|          | 0/3 [00:00<?, ?it/s]"
      ]
     },
     "metadata": {},
     "output_type": "display_data"
    },
    {
     "data": {
      "application/vnd.jupyter.widget-view+json": {
       "model_id": "84ca5f5fde224c5a9f29128cc4691e26",
       "version_major": 2,
       "version_minor": 0
      },
      "text/plain": [
       "prompt types:   0%|          | 0/3 [00:00<?, ?it/s]"
      ]
     },
     "metadata": {},
     "output_type": "display_data"
    },
    {
     "data": {
      "application/vnd.jupyter.widget-view+json": {
       "model_id": "cc809814649649398acd7ab4615ca8c0",
       "version_major": 2,
       "version_minor": 0
      },
      "text/plain": [
       "prompt types:   0%|          | 0/3 [00:00<?, ?it/s]"
      ]
     },
     "metadata": {},
     "output_type": "display_data"
    },
    {
     "data": {
      "application/vnd.jupyter.widget-view+json": {
       "model_id": "0e1c5caec4344ef58081ff041710a8c5",
       "version_major": 2,
       "version_minor": 0
      },
      "text/plain": [
       "prompt types:   0%|          | 0/3 [00:00<?, ?it/s]"
      ]
     },
     "metadata": {},
     "output_type": "display_data"
    },
    {
     "data": {
      "application/vnd.jupyter.widget-view+json": {
       "model_id": "394f7abfe43b4e119d83f84e5c132e8b",
       "version_major": 2,
       "version_minor": 0
      },
      "text/plain": [
       "prompt types:   0%|          | 0/3 [00:00<?, ?it/s]"
      ]
     },
     "metadata": {},
     "output_type": "display_data"
    },
    {
     "data": {
      "application/vnd.jupyter.widget-view+json": {
       "model_id": "08a24132887f4c69a58dfa3e353ef679",
       "version_major": 2,
       "version_minor": 0
      },
      "text/plain": [
       "models:   0%|          | 0/5 [00:00<?, ?it/s]"
      ]
     },
     "metadata": {},
     "output_type": "display_data"
    },
    {
     "data": {
      "application/vnd.jupyter.widget-view+json": {
       "model_id": "00ada06ce67a40a6beb717ceb0a5bd6c",
       "version_major": 2,
       "version_minor": 0
      },
      "text/plain": [
       "prompt types:   0%|          | 0/3 [00:00<?, ?it/s]"
      ]
     },
     "metadata": {},
     "output_type": "display_data"
    },
    {
     "data": {
      "application/vnd.jupyter.widget-view+json": {
       "model_id": "7e236a8ca045489f9e854b22a9d07383",
       "version_major": 2,
       "version_minor": 0
      },
      "text/plain": [
       "prompt types:   0%|          | 0/3 [00:00<?, ?it/s]"
      ]
     },
     "metadata": {},
     "output_type": "display_data"
    },
    {
     "data": {
      "application/vnd.jupyter.widget-view+json": {
       "model_id": "d88bc10e38e54f81b5c7e64359c017db",
       "version_major": 2,
       "version_minor": 0
      },
      "text/plain": [
       "prompt types:   0%|          | 0/3 [00:00<?, ?it/s]"
      ]
     },
     "metadata": {},
     "output_type": "display_data"
    },
    {
     "data": {
      "application/vnd.jupyter.widget-view+json": {
       "model_id": "6a22f4f22c264bf5b9870a125b4125d1",
       "version_major": 2,
       "version_minor": 0
      },
      "text/plain": [
       "prompt types:   0%|          | 0/3 [00:00<?, ?it/s]"
      ]
     },
     "metadata": {},
     "output_type": "display_data"
    },
    {
     "data": {
      "application/vnd.jupyter.widget-view+json": {
       "model_id": "d8508f0b3c5848b8b6fa598c08f98eb0",
       "version_major": 2,
       "version_minor": 0
      },
      "text/plain": [
       "prompt types:   0%|          | 0/3 [00:00<?, ?it/s]"
      ]
     },
     "metadata": {},
     "output_type": "display_data"
    },
    {
     "data": {
      "application/vnd.jupyter.widget-view+json": {
       "model_id": "3d30ca5bbaef4b329da905cb64fd8f42",
       "version_major": 2,
       "version_minor": 0
      },
      "text/plain": [
       "models:   0%|          | 0/5 [00:00<?, ?it/s]"
      ]
     },
     "metadata": {},
     "output_type": "display_data"
    },
    {
     "data": {
      "application/vnd.jupyter.widget-view+json": {
       "model_id": "78b9ec02c4d44b3fa7afec78498660b5",
       "version_major": 2,
       "version_minor": 0
      },
      "text/plain": [
       "prompt types:   0%|          | 0/3 [00:00<?, ?it/s]"
      ]
     },
     "metadata": {},
     "output_type": "display_data"
    },
    {
     "data": {
      "application/vnd.jupyter.widget-view+json": {
       "model_id": "52468714de2c42c3830925c4a3359438",
       "version_major": 2,
       "version_minor": 0
      },
      "text/plain": [
       "prompt types:   0%|          | 0/3 [00:00<?, ?it/s]"
      ]
     },
     "metadata": {},
     "output_type": "display_data"
    },
    {
     "data": {
      "application/vnd.jupyter.widget-view+json": {
       "model_id": "0a0b57d45bdd4eca896801883b74e52b",
       "version_major": 2,
       "version_minor": 0
      },
      "text/plain": [
       "prompt types:   0%|          | 0/3 [00:00<?, ?it/s]"
      ]
     },
     "metadata": {},
     "output_type": "display_data"
    },
    {
     "data": {
      "application/vnd.jupyter.widget-view+json": {
       "model_id": "6ecddb6aa18a4ab38f421f73b68b2ec3",
       "version_major": 2,
       "version_minor": 0
      },
      "text/plain": [
       "prompt types:   0%|          | 0/3 [00:00<?, ?it/s]"
      ]
     },
     "metadata": {},
     "output_type": "display_data"
    },
    {
     "data": {
      "application/vnd.jupyter.widget-view+json": {
       "model_id": "c5b430da754d4897b29b225b385075eb",
       "version_major": 2,
       "version_minor": 0
      },
      "text/plain": [
       "prompt types:   0%|          | 0/3 [00:00<?, ?it/s]"
      ]
     },
     "metadata": {},
     "output_type": "display_data"
    },
    {
     "data": {
      "application/vnd.jupyter.widget-view+json": {
       "model_id": "1aaf38a6fc7f48ec85f8506345d89a2e",
       "version_major": 2,
       "version_minor": 0
      },
      "text/plain": [
       "models:   0%|          | 0/5 [00:00<?, ?it/s]"
      ]
     },
     "metadata": {},
     "output_type": "display_data"
    },
    {
     "data": {
      "application/vnd.jupyter.widget-view+json": {
       "model_id": "c9c208a99c9c47e097bdc366190daaf9",
       "version_major": 2,
       "version_minor": 0
      },
      "text/plain": [
       "prompt types:   0%|          | 0/3 [00:00<?, ?it/s]"
      ]
     },
     "metadata": {},
     "output_type": "display_data"
    },
    {
     "data": {
      "application/vnd.jupyter.widget-view+json": {
       "model_id": "5c07a388e8284b57ab313ad2efd4b457",
       "version_major": 2,
       "version_minor": 0
      },
      "text/plain": [
       "prompt types:   0%|          | 0/3 [00:00<?, ?it/s]"
      ]
     },
     "metadata": {},
     "output_type": "display_data"
    },
    {
     "data": {
      "application/vnd.jupyter.widget-view+json": {
       "model_id": "01df457614e44cf1a415c69d12b9dd57",
       "version_major": 2,
       "version_minor": 0
      },
      "text/plain": [
       "prompt types:   0%|          | 0/3 [00:00<?, ?it/s]"
      ]
     },
     "metadata": {},
     "output_type": "display_data"
    },
    {
     "data": {
      "application/vnd.jupyter.widget-view+json": {
       "model_id": "39c1b76f75824d54a41dc6f71bbcc5cf",
       "version_major": 2,
       "version_minor": 0
      },
      "text/plain": [
       "prompt types:   0%|          | 0/3 [00:00<?, ?it/s]"
      ]
     },
     "metadata": {},
     "output_type": "display_data"
    },
    {
     "name": "stdout",
     "output_type": "stream",
     "text": [
      "Error running js cyclomatic complexity calculator: Command '['node', 'js_code_metrics.js', 'StackJanitor/function2/GENERATED/type3/CodeQwen1_5-7B-Chat/GENERATED-logCloudFormationStack_1.ts']' returned non-zero exit status 1.\n",
      "Error running js cyclomatic complexity calculator: Command '['node', 'js_halstead.js', 'StackJanitor/function2/GENERATED/type3/CodeQwen1_5-7B-Chat/GENERATED-logCloudFormationStack_1.ts']' returned non-zero exit status 1.\n"
     ]
    },
    {
     "data": {
      "application/vnd.jupyter.widget-view+json": {
       "model_id": "fa46905fa5494cf99defe29f60cad77f",
       "version_major": 2,
       "version_minor": 0
      },
      "text/plain": [
       "prompt types:   0%|          | 0/3 [00:00<?, ?it/s]"
      ]
     },
     "metadata": {},
     "output_type": "display_data"
    },
    {
     "data": {
      "application/vnd.jupyter.widget-view+json": {
       "model_id": "fd6e78bf79f94aa3bcddd6342368aae7",
       "version_major": 2,
       "version_minor": 0
      },
      "text/plain": [
       "models:   0%|          | 0/5 [00:00<?, ?it/s]"
      ]
     },
     "metadata": {},
     "output_type": "display_data"
    },
    {
     "data": {
      "application/vnd.jupyter.widget-view+json": {
       "model_id": "d9898959f77b438da5442d079f5811ac",
       "version_major": 2,
       "version_minor": 0
      },
      "text/plain": [
       "prompt types:   0%|          | 0/3 [00:00<?, ?it/s]"
      ]
     },
     "metadata": {},
     "output_type": "display_data"
    },
    {
     "data": {
      "application/vnd.jupyter.widget-view+json": {
       "model_id": "0c5be56a3e1f4c76ad1d388a98d564bf",
       "version_major": 2,
       "version_minor": 0
      },
      "text/plain": [
       "prompt types:   0%|          | 0/3 [00:00<?, ?it/s]"
      ]
     },
     "metadata": {},
     "output_type": "display_data"
    },
    {
     "name": "stdout",
     "output_type": "stream",
     "text": [
      "Error running js cyclomatic complexity calculator: Command '['node', 'js_code_metrics.js', 'StackJanitor/function3/GENERATED/type3/GPT-4/GENERATED-monitorCloudFormationStack_1.ts']' returned non-zero exit status 1.\n",
      "Error running js cyclomatic complexity calculator: Command '['node', 'js_halstead.js', 'StackJanitor/function3/GENERATED/type3/GPT-4/GENERATED-monitorCloudFormationStack_1.ts']' returned non-zero exit status 1.\n"
     ]
    },
    {
     "data": {
      "application/vnd.jupyter.widget-view+json": {
       "model_id": "99edb3b082a84283a3531656d78b33cc",
       "version_major": 2,
       "version_minor": 0
      },
      "text/plain": [
       "prompt types:   0%|          | 0/3 [00:00<?, ?it/s]"
      ]
     },
     "metadata": {},
     "output_type": "display_data"
    },
    {
     "data": {
      "application/vnd.jupyter.widget-view+json": {
       "model_id": "4d505051be0e4f0599a001fb2701684f",
       "version_major": 2,
       "version_minor": 0
      },
      "text/plain": [
       "prompt types:   0%|          | 0/3 [00:00<?, ?it/s]"
      ]
     },
     "metadata": {},
     "output_type": "display_data"
    },
    {
     "data": {
      "application/vnd.jupyter.widget-view+json": {
       "model_id": "44a7c8460b2e4309a040b5a5731e3abb",
       "version_major": 2,
       "version_minor": 0
      },
      "text/plain": [
       "prompt types:   0%|          | 0/3 [00:00<?, ?it/s]"
      ]
     },
     "metadata": {},
     "output_type": "display_data"
    }
   ],
   "source": [
    "measure_loc = True\n",
    "measure_cyc_complexity = True\n",
    "measure_cog_complexity = True\n",
    "measure_halstead = True\n",
    "\n",
    "loc_data = [] # repo_name, function_num, prompt_type, model, original loc, generated loc\n",
    "cc_data = [] # repo_name, function_num, prompt_type, model, original cc, generated cc\n",
    "cog_data = [] # repo_name, function_num, prompt_type, model, original cog, generated cog\n",
    "halstead_data = [] # repo_name, function_num, prompt_type, model, original halstead, generated halstead\n",
    "\n",
    "cc_functions = {'python': get_cc_py, 'JS': get_cc_js, 'TS': get_cc_js}\n",
    "cogc_functions = {'python': get_cog_complexity_py, 'JS': get_cog_complexity_js, 'TS': get_cog_complexity_js}\n",
    "halstead_functions = {'python': get_halstead_py, 'JS': get_halstead_js, 'TS': get_halstead_js}\n",
    "\n",
    "for conf in tqdm(configs, desc=\"Configs\"):\n",
    "    for model_name in tqdm(model_names, desc=\"models\", leave=False):\n",
    "        for prompt_type in tqdm(type_names, desc=\"prompt types\", leave=False):\n",
    "            if prompt_type == \"type3\" and conf[\"generated_function_type3_save_dir\"] == \"\":\n",
    "                # skip type3 prompt because it doesnt exist\n",
    "                continue\n",
    "\n",
    "            paths = get_function_paths(conf, model_name, prompt_type)\n",
    "            original_path, generated_path = paths['original'], paths['generated']\n",
    "            repo, func_num = get_name(conf)\n",
    "\n",
    "            if measure_loc:\n",
    "                original_loc = get_loc(original_path)\n",
    "                generated_loc = get_loc(generated_path)\n",
    "\n",
    "                loc_data.append([repo, func_num, prompt_type, model_name, original_loc, generated_loc])\n",
    "\n",
    "            if measure_cyc_complexity:\n",
    "                original_cc = cc_functions[conf['language']](original_path)\n",
    "                generated_cc = cc_functions[conf['language']](generated_path)\n",
    "\n",
    "                cc_data.append([repo, func_num, prompt_type, model_name, original_cc, generated_cc])\n",
    "\n",
    "            if measure_cog_complexity:\n",
    "                original_cog = cogc_functions[conf['language']](original_path)\n",
    "                generated_cog = cogc_functions[conf['language']](generated_path)\n",
    "\n",
    "                cog_data.append([repo, func_num, prompt_type, model_name, original_cog, generated_cog])\n",
    "\n",
    "            if measure_halstead:\n",
    "                original_halstead = halstead_functions[conf['language']](original_path)\n",
    "                generated_halstead = halstead_functions[conf['language']](generated_path)\n",
    "\n",
    "                halstead_data.append([repo, func_num, prompt_type, model_name, original_halstead, generated_halstead])\n"
   ]
  },
  {
   "cell_type": "code",
   "execution_count": 18,
   "metadata": {},
   "outputs": [],
   "source": [
    "loc_df = pd.DataFrame(loc_data, columns=[\"Repo\", \"FunctionNumber\", \"PromptType\", \"Model\", \"OriginalLOC\", \"GeneratedLOC\"])\n",
    "cc_df = pd.DataFrame(cc_data, columns=[\"Repo\", \"FunctionNumber\", \"PromptType\", \"Model\", \"OriginalCC\", \"GeneratedCC\"])\n",
    "cog_df = pd.DataFrame(cog_data, columns=[\"Repo\", \"FunctionNumber\", \"PromptType\", \"Model\", \"OriginalCOG\", \"GeneratedCOG\"])\n",
    "halstead_df = pd.DataFrame(halstead_data, columns=[\"Repo\", \"FunctionNumber\", \"PromptType\", \"Model\", \"OriginalHalstead\", \"GeneratedHalstead\"])\n"
   ]
  },
  {
   "cell_type": "code",
   "execution_count": 19,
   "metadata": {},
   "outputs": [
    {
     "data": {
      "text/html": [
       "<div>\n",
       "<style scoped>\n",
       "    .dataframe tbody tr th:only-of-type {\n",
       "        vertical-align: middle;\n",
       "    }\n",
       "\n",
       "    .dataframe tbody tr th {\n",
       "        vertical-align: top;\n",
       "    }\n",
       "\n",
       "    .dataframe thead th {\n",
       "        text-align: right;\n",
       "    }\n",
       "</style>\n",
       "<table border=\"1\" class=\"dataframe\">\n",
       "  <thead>\n",
       "    <tr style=\"text-align: right;\">\n",
       "      <th></th>\n",
       "      <th>Repo</th>\n",
       "      <th>FunctionNumber</th>\n",
       "      <th>PromptType</th>\n",
       "      <th>Model</th>\n",
       "      <th>OriginalLOC</th>\n",
       "      <th>GeneratedLOC</th>\n",
       "    </tr>\n",
       "  </thead>\n",
       "  <tbody>\n",
       "    <tr>\n",
       "      <th>0</th>\n",
       "      <td>craftship_codebox-npm</td>\n",
       "      <td>1</td>\n",
       "      <td>type1</td>\n",
       "      <td>GPT-3_5-Turbo</td>\n",
       "      <td>100</td>\n",
       "      <td>41</td>\n",
       "    </tr>\n",
       "    <tr>\n",
       "      <th>1</th>\n",
       "      <td>craftship_codebox-npm</td>\n",
       "      <td>1</td>\n",
       "      <td>type2</td>\n",
       "      <td>GPT-3_5-Turbo</td>\n",
       "      <td>100</td>\n",
       "      <td>50</td>\n",
       "    </tr>\n",
       "    <tr>\n",
       "      <th>2</th>\n",
       "      <td>craftship_codebox-npm</td>\n",
       "      <td>1</td>\n",
       "      <td>type3</td>\n",
       "      <td>GPT-3_5-Turbo</td>\n",
       "      <td>100</td>\n",
       "      <td>46</td>\n",
       "    </tr>\n",
       "    <tr>\n",
       "      <th>3</th>\n",
       "      <td>craftship_codebox-npm</td>\n",
       "      <td>1</td>\n",
       "      <td>type1</td>\n",
       "      <td>GPT-4</td>\n",
       "      <td>100</td>\n",
       "      <td>75</td>\n",
       "    </tr>\n",
       "    <tr>\n",
       "      <th>4</th>\n",
       "      <td>craftship_codebox-npm</td>\n",
       "      <td>1</td>\n",
       "      <td>type2</td>\n",
       "      <td>GPT-4</td>\n",
       "      <td>100</td>\n",
       "      <td>64</td>\n",
       "    </tr>\n",
       "  </tbody>\n",
       "</table>\n",
       "</div>"
      ],
      "text/plain": [
       "                    Repo FunctionNumber PromptType          Model  \\\n",
       "0  craftship_codebox-npm              1      type1  GPT-3_5-Turbo   \n",
       "1  craftship_codebox-npm              1      type2  GPT-3_5-Turbo   \n",
       "2  craftship_codebox-npm              1      type3  GPT-3_5-Turbo   \n",
       "3  craftship_codebox-npm              1      type1          GPT-4   \n",
       "4  craftship_codebox-npm              1      type2          GPT-4   \n",
       "\n",
       "   OriginalLOC  GeneratedLOC  \n",
       "0          100            41  \n",
       "1          100            50  \n",
       "2          100            46  \n",
       "3          100            75  \n",
       "4          100            64  "
      ]
     },
     "execution_count": 19,
     "metadata": {},
     "output_type": "execute_result"
    }
   ],
   "source": [
    "loc_df.head()\n"
   ]
  },
  {
   "cell_type": "code",
   "execution_count": 20,
   "metadata": {},
   "outputs": [
    {
     "data": {
      "text/html": [
       "<div>\n",
       "<style scoped>\n",
       "    .dataframe tbody tr th:only-of-type {\n",
       "        vertical-align: middle;\n",
       "    }\n",
       "\n",
       "    .dataframe tbody tr th {\n",
       "        vertical-align: top;\n",
       "    }\n",
       "\n",
       "    .dataframe thead th {\n",
       "        text-align: right;\n",
       "    }\n",
       "</style>\n",
       "<table border=\"1\" class=\"dataframe\">\n",
       "  <thead>\n",
       "    <tr style=\"text-align: right;\">\n",
       "      <th></th>\n",
       "      <th>Repo</th>\n",
       "      <th>FunctionNumber</th>\n",
       "      <th>PromptType</th>\n",
       "      <th>Model</th>\n",
       "      <th>OriginalCC</th>\n",
       "      <th>GeneratedCC</th>\n",
       "    </tr>\n",
       "  </thead>\n",
       "  <tbody>\n",
       "    <tr>\n",
       "      <th>0</th>\n",
       "      <td>craftship_codebox-npm</td>\n",
       "      <td>1</td>\n",
       "      <td>type1</td>\n",
       "      <td>GPT-3_5-Turbo</td>\n",
       "      <td>11</td>\n",
       "      <td>12.0</td>\n",
       "    </tr>\n",
       "    <tr>\n",
       "      <th>1</th>\n",
       "      <td>craftship_codebox-npm</td>\n",
       "      <td>1</td>\n",
       "      <td>type2</td>\n",
       "      <td>GPT-3_5-Turbo</td>\n",
       "      <td>11</td>\n",
       "      <td>13.0</td>\n",
       "    </tr>\n",
       "    <tr>\n",
       "      <th>2</th>\n",
       "      <td>craftship_codebox-npm</td>\n",
       "      <td>1</td>\n",
       "      <td>type3</td>\n",
       "      <td>GPT-3_5-Turbo</td>\n",
       "      <td>11</td>\n",
       "      <td>11.0</td>\n",
       "    </tr>\n",
       "    <tr>\n",
       "      <th>3</th>\n",
       "      <td>craftship_codebox-npm</td>\n",
       "      <td>1</td>\n",
       "      <td>type1</td>\n",
       "      <td>GPT-4</td>\n",
       "      <td>11</td>\n",
       "      <td>13.0</td>\n",
       "    </tr>\n",
       "    <tr>\n",
       "      <th>4</th>\n",
       "      <td>craftship_codebox-npm</td>\n",
       "      <td>1</td>\n",
       "      <td>type2</td>\n",
       "      <td>GPT-4</td>\n",
       "      <td>11</td>\n",
       "      <td>13.0</td>\n",
       "    </tr>\n",
       "  </tbody>\n",
       "</table>\n",
       "</div>"
      ],
      "text/plain": [
       "                    Repo FunctionNumber PromptType          Model  OriginalCC  \\\n",
       "0  craftship_codebox-npm              1      type1  GPT-3_5-Turbo          11   \n",
       "1  craftship_codebox-npm              1      type2  GPT-3_5-Turbo          11   \n",
       "2  craftship_codebox-npm              1      type3  GPT-3_5-Turbo          11   \n",
       "3  craftship_codebox-npm              1      type1          GPT-4          11   \n",
       "4  craftship_codebox-npm              1      type2          GPT-4          11   \n",
       "\n",
       "   GeneratedCC  \n",
       "0         12.0  \n",
       "1         13.0  \n",
       "2         11.0  \n",
       "3         13.0  \n",
       "4         13.0  "
      ]
     },
     "execution_count": 20,
     "metadata": {},
     "output_type": "execute_result"
    }
   ],
   "source": [
    "cc_df.head()\n"
   ]
  },
  {
   "cell_type": "code",
   "execution_count": 21,
   "metadata": {},
   "outputs": [
    {
     "data": {
      "text/html": [
       "<div>\n",
       "<style scoped>\n",
       "    .dataframe tbody tr th:only-of-type {\n",
       "        vertical-align: middle;\n",
       "    }\n",
       "\n",
       "    .dataframe tbody tr th {\n",
       "        vertical-align: top;\n",
       "    }\n",
       "\n",
       "    .dataframe thead th {\n",
       "        text-align: right;\n",
       "    }\n",
       "</style>\n",
       "<table border=\"1\" class=\"dataframe\">\n",
       "  <thead>\n",
       "    <tr style=\"text-align: right;\">\n",
       "      <th></th>\n",
       "      <th>Repo</th>\n",
       "      <th>FunctionNumber</th>\n",
       "      <th>PromptType</th>\n",
       "      <th>Model</th>\n",
       "      <th>OriginalCOG</th>\n",
       "      <th>GeneratedCOG</th>\n",
       "    </tr>\n",
       "  </thead>\n",
       "  <tbody>\n",
       "    <tr>\n",
       "      <th>0</th>\n",
       "      <td>craftship_codebox-npm</td>\n",
       "      <td>1</td>\n",
       "      <td>type1</td>\n",
       "      <td>GPT-3_5-Turbo</td>\n",
       "      <td>11</td>\n",
       "      <td>10</td>\n",
       "    </tr>\n",
       "    <tr>\n",
       "      <th>1</th>\n",
       "      <td>craftship_codebox-npm</td>\n",
       "      <td>1</td>\n",
       "      <td>type2</td>\n",
       "      <td>GPT-3_5-Turbo</td>\n",
       "      <td>11</td>\n",
       "      <td>12</td>\n",
       "    </tr>\n",
       "    <tr>\n",
       "      <th>2</th>\n",
       "      <td>craftship_codebox-npm</td>\n",
       "      <td>1</td>\n",
       "      <td>type3</td>\n",
       "      <td>GPT-3_5-Turbo</td>\n",
       "      <td>11</td>\n",
       "      <td>7</td>\n",
       "    </tr>\n",
       "    <tr>\n",
       "      <th>3</th>\n",
       "      <td>craftship_codebox-npm</td>\n",
       "      <td>1</td>\n",
       "      <td>type1</td>\n",
       "      <td>GPT-4</td>\n",
       "      <td>11</td>\n",
       "      <td>18</td>\n",
       "    </tr>\n",
       "    <tr>\n",
       "      <th>4</th>\n",
       "      <td>craftship_codebox-npm</td>\n",
       "      <td>1</td>\n",
       "      <td>type2</td>\n",
       "      <td>GPT-4</td>\n",
       "      <td>11</td>\n",
       "      <td>15</td>\n",
       "    </tr>\n",
       "  </tbody>\n",
       "</table>\n",
       "</div>"
      ],
      "text/plain": [
       "                    Repo FunctionNumber PromptType          Model  \\\n",
       "0  craftship_codebox-npm              1      type1  GPT-3_5-Turbo   \n",
       "1  craftship_codebox-npm              1      type2  GPT-3_5-Turbo   \n",
       "2  craftship_codebox-npm              1      type3  GPT-3_5-Turbo   \n",
       "3  craftship_codebox-npm              1      type1          GPT-4   \n",
       "4  craftship_codebox-npm              1      type2          GPT-4   \n",
       "\n",
       "   OriginalCOG  GeneratedCOG  \n",
       "0           11            10  \n",
       "1           11            12  \n",
       "2           11             7  \n",
       "3           11            18  \n",
       "4           11            15  "
      ]
     },
     "execution_count": 21,
     "metadata": {},
     "output_type": "execute_result"
    }
   ],
   "source": [
    "cog_df.head()\n"
   ]
  },
  {
   "cell_type": "code",
   "execution_count": 22,
   "metadata": {},
   "outputs": [
    {
     "data": {
      "text/html": [
       "<div>\n",
       "<style scoped>\n",
       "    .dataframe tbody tr th:only-of-type {\n",
       "        vertical-align: middle;\n",
       "    }\n",
       "\n",
       "    .dataframe tbody tr th {\n",
       "        vertical-align: top;\n",
       "    }\n",
       "\n",
       "    .dataframe thead th {\n",
       "        text-align: right;\n",
       "    }\n",
       "</style>\n",
       "<table border=\"1\" class=\"dataframe\">\n",
       "  <thead>\n",
       "    <tr style=\"text-align: right;\">\n",
       "      <th></th>\n",
       "      <th>Repo</th>\n",
       "      <th>FunctionNumber</th>\n",
       "      <th>PromptType</th>\n",
       "      <th>Model</th>\n",
       "      <th>OriginalHalstead</th>\n",
       "      <th>GeneratedHalstead</th>\n",
       "    </tr>\n",
       "  </thead>\n",
       "  <tbody>\n",
       "    <tr>\n",
       "      <th>0</th>\n",
       "      <td>craftship_codebox-npm</td>\n",
       "      <td>1</td>\n",
       "      <td>type1</td>\n",
       "      <td>GPT-3_5-Turbo</td>\n",
       "      <td>3613.812</td>\n",
       "      <td>1829.796</td>\n",
       "    </tr>\n",
       "    <tr>\n",
       "      <th>1</th>\n",
       "      <td>craftship_codebox-npm</td>\n",
       "      <td>1</td>\n",
       "      <td>type2</td>\n",
       "      <td>GPT-3_5-Turbo</td>\n",
       "      <td>3613.812</td>\n",
       "      <td>1924.088</td>\n",
       "    </tr>\n",
       "    <tr>\n",
       "      <th>2</th>\n",
       "      <td>craftship_codebox-npm</td>\n",
       "      <td>1</td>\n",
       "      <td>type3</td>\n",
       "      <td>GPT-3_5-Turbo</td>\n",
       "      <td>3613.812</td>\n",
       "      <td>1726.709</td>\n",
       "    </tr>\n",
       "    <tr>\n",
       "      <th>3</th>\n",
       "      <td>craftship_codebox-npm</td>\n",
       "      <td>1</td>\n",
       "      <td>type1</td>\n",
       "      <td>GPT-4</td>\n",
       "      <td>3613.812</td>\n",
       "      <td>2895.571</td>\n",
       "    </tr>\n",
       "    <tr>\n",
       "      <th>4</th>\n",
       "      <td>craftship_codebox-npm</td>\n",
       "      <td>1</td>\n",
       "      <td>type2</td>\n",
       "      <td>GPT-4</td>\n",
       "      <td>3613.812</td>\n",
       "      <td>2599.581</td>\n",
       "    </tr>\n",
       "  </tbody>\n",
       "</table>\n",
       "</div>"
      ],
      "text/plain": [
       "                    Repo FunctionNumber PromptType          Model  \\\n",
       "0  craftship_codebox-npm              1      type1  GPT-3_5-Turbo   \n",
       "1  craftship_codebox-npm              1      type2  GPT-3_5-Turbo   \n",
       "2  craftship_codebox-npm              1      type3  GPT-3_5-Turbo   \n",
       "3  craftship_codebox-npm              1      type1          GPT-4   \n",
       "4  craftship_codebox-npm              1      type2          GPT-4   \n",
       "\n",
       "   OriginalHalstead  GeneratedHalstead  \n",
       "0          3613.812           1829.796  \n",
       "1          3613.812           1924.088  \n",
       "2          3613.812           1726.709  \n",
       "3          3613.812           2895.571  \n",
       "4          3613.812           2599.581  "
      ]
     },
     "execution_count": 22,
     "metadata": {},
     "output_type": "execute_result"
    }
   ],
   "source": [
    "halstead_df.head()\n"
   ]
  },
  {
   "cell_type": "code",
   "execution_count": 23,
   "metadata": {},
   "outputs": [],
   "source": [
    "loc_df.to_csv(\"loc.csv\")\n",
    "cc_df.to_csv(\"cc.csv\")\n",
    "cog_df.to_csv(\"cog.csv\")\n",
    "halstead_df.to_csv(\"halstead.csv\")\n"
   ]
  },
  {
   "cell_type": "markdown",
   "metadata": {},
   "source": [
    "---\n",
    "# Experiments"
   ]
  },
  {
   "cell_type": "code",
   "execution_count": null,
   "metadata": {},
   "outputs": [],
   "source": []
  },
  {
   "cell_type": "code",
   "execution_count": null,
   "metadata": {},
   "outputs": [],
   "source": []
  }
 ],
 "metadata": {
  "kernelspec": {
   "display_name": ".venv",
   "language": "python",
   "name": "python3"
  },
  "language_info": {
   "codemirror_mode": {
    "name": "ipython",
    "version": 3
   },
   "file_extension": ".py",
   "mimetype": "text/x-python",
   "name": "python",
   "nbconvert_exporter": "python",
   "pygments_lexer": "ipython3",
   "version": "3.12.5"
  }
 },
 "nbformat": 4,
 "nbformat_minor": 2
}
