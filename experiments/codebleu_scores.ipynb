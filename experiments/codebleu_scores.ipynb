{
 "cells": [
  {
   "cell_type": "markdown",
   "metadata": {},
   "source": [
    "# CodeBLEU Score Calculation for All Functions "
   ]
  },
  {
   "cell_type": "markdown",
   "metadata": {},
   "source": [
    "## Imports and Helpers"
   ]
  },
  {
   "cell_type": "code",
   "execution_count": null,
   "metadata": {},
   "outputs": [],
   "source": [
    "import os\n",
    "import json\n",
    "from tqdm.notebook import tqdm\n",
    "import numpy as np\n",
    "import pandas as pd\n",
    "\n",
    "from CodebleuCalculator import codebleu_score_calculator\n",
    "from HelperFunction import read_config_files_index, get_function_paths, get_name"
   ]
  },
  {
   "cell_type": "markdown",
   "metadata": {},
   "source": [
    "---"
   ]
  },
  {
   "cell_type": "markdown",
   "metadata": {},
   "source": [
    "## Running on All Configs"
   ]
  },
  {
   "cell_type": "code",
   "execution_count": null,
   "metadata": {},
   "outputs": [
    {
     "name": "stdout",
     "output_type": "stream",
     "text": [
      "read 10 config files\n"
     ]
    }
   ],
   "source": [
    "configs = read_config_files_index(\"config_files.txt\")\n",
    "print(f\"read {len(configs)} config files\")"
   ]
  },
  {
   "cell_type": "code",
   "execution_count": null,
   "metadata": {},
   "outputs": [],
   "source": [
    "model_names = [\n",
    "    \"GPT-3_5-Turbo\", \n",
    "    \"GPT-4\", \n",
    "    \"DeepSeek-Coder-V2\", \n",
    "    \"CodeQwen1_5-7B-Chat\", \n",
    "    \"Artigenz-Coder-DS-6_7B\"\n",
    "]\n",
    "type_names = [\"type1\", \"type2\", \"type3\"]\n",
    "languages = {\n",
    "    \"JS\": \"javascript\",\n",
    "    \"python\": \"python\",\n",
    "    \"TS\": \"javascript\"\n",
    "}"
   ]
  },
  {
   "cell_type": "code",
   "execution_count": null,
   "metadata": {},
   "outputs": [],
   "source": [
    "codebleu_scores = []\n",
    "\n",
    "for conf in tqdm(configs, desc=\"Configs\"):\n",
    "    for model_name in tqdm(model_names, desc=\"models\", leave=False):\n",
    "        for prompt_type in tqdm(type_names, desc=\"prompt types\", leave=False):\n",
    "            if prompt_type == \"type3\" and conf[\"generated_function_type3_save_dir\"] == \"\":\n",
    "                # skip type3 prompt because it doesnt exist\n",
    "                continue\n",
    "\n",
    "            paths = get_function_paths(conf, model_name, prompt_type)\n",
    "            original_path, generated_path = paths['original'], paths['generated']\n",
    "            repo, func_num = get_name(conf)\n",
    "\n",
    "            codebleu_score = codebleu_score_calculator(\n",
    "                        original_path,\n",
    "                        generated_path,\n",
    "                        languages[conf['language']]\n",
    "                    )\n",
    "            \n",
    "            codebleu_scores.append([repo, func_num, prompt_type, model_name, codebleu_score['codebleu']])"
   ]
  },
  {
   "cell_type": "code",
   "execution_count": null,
   "metadata": {},
   "outputs": [],
   "source": [
    "codebleu_scores_df = pd.DataFrame(codebleu_scores, columns=[\"Repo\", \"FunctionNumber\", \"PromptType\", \"Model\", \"CodeBLEU\"])"
   ]
  },
  {
   "cell_type": "code",
   "execution_count": null,
   "metadata": {},
   "outputs": [],
   "source": [
    "codebleu_scores_df.to_csv(\"csvs/code quality metrics/Codebleu.csv\")"
   ]
  },
  {
   "cell_type": "markdown",
   "metadata": {},
   "source": [
    "----"
   ]
  }
 ],
 "metadata": {
  "kernelspec": {
   "display_name": "Python 3",
   "language": "python",
   "name": "python3"
  },
  "language_info": {
   "codemirror_mode": {
    "name": "ipython",
    "version": 3
   },
   "file_extension": ".py",
   "mimetype": "text/x-python",
   "name": "python",
   "nbconvert_exporter": "python",
   "pygments_lexer": "ipython3",
   "version": "3.11.5"
  }
 },
 "nbformat": 4,
 "nbformat_minor": 2
}
