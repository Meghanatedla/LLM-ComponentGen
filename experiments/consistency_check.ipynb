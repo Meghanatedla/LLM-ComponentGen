{
 "cells": [
  {
   "cell_type": "markdown",
   "metadata": {},
   "source": [
    "# Consistency Checks\n",
    "## Imports and Helpers"
   ]
  },
  {
   "cell_type": "code",
   "execution_count": 4,
   "metadata": {},
   "outputs": [],
   "source": [
    "import random\n",
    "import os\n",
    "import json\n",
    "import matplotlib.pyplot as plt\n",
    "import seaborn as sns\n",
    "import pandas as pd\n",
    "from tqdm.auto import tqdm\n",
    "import pandas as pd\n",
    "import numpy as np\n",
    "import ast\n",
    "\n",
    "\n",
    "from OpenAIModel import OpenAIModel\n",
    "from DeepSeek import DeepSeek\n",
    "from CodeQwen import CodeQwen\n",
    "from ArtigenzCoder import ArtigenzCoder\n",
    "from CodebleuCalculator import codebleu_score_calculator\n",
    "from HelperFunction import validate_config, load_func_generation_prompts\n",
    "from CodeMetricCalculator import get_loc, get_cog_complexity_py, get_cog_complexity_js, get_cc_py, get_cc_js, get_halstead_py, get_halstead_js\n"
   ]
  },
  {
   "cell_type": "code",
   "execution_count": 11,
   "metadata": {},
   "outputs": [],
   "source": [
    "sns.set_style(\"darkgrid\")\n",
    "plt.rcParams['font.family'] = 'serif'"
   ]
  },
  {
   "cell_type": "markdown",
   "metadata": {},
   "source": [
    "---"
   ]
  },
  {
   "cell_type": "markdown",
   "metadata": {},
   "source": [
    "## Getting The Sample for Testing"
   ]
  },
  {
   "cell_type": "code",
   "execution_count": 2,
   "metadata": {},
   "outputs": [],
   "source": [
    "model_names = [\n",
    "    \"GPT-3_5-Turbo\", \n",
    "    \"GPT-4\", \n",
    "    \"DeepSeek-Coder-V2\", \n",
    "    \"CodeQwen1_5-7B-Chat\", \n",
    "    \"Artigenz-Coder-DS-6_7B\"\n",
    "]\n",
    "type_names = [\"type1\", \"type2\", \"type3\"]\n",
    "repo_names = [\"craftship_codebox-npm\", \"JuliaRegistries_TagBot\", \"laconiajs_laconia\", \"StackJanitor\"]\n",
    "num_functions_per_repo = [3, 1, 3, 3]\n"
   ]
  },
  {
   "cell_type": "code",
   "execution_count": 3,
   "metadata": {},
   "outputs": [
    {
     "name": "stdout",
     "output_type": "stream",
     "text": [
      "1: Model: GPT-3_5-Turbo, Repo: StackJanitor, Function Num: 1, Prompt Type: type2\n",
      "2: Model: GPT-4, Repo: laconiajs_laconia, Function Num: 2, Prompt Type: type3\n",
      "3: Model: DeepSeek-Coder-V2, Repo: JuliaRegistries_TagBot, Function Num: 1, Prompt Type: type1\n",
      "4: Model: CodeQwen1_5-7B-Chat, Repo: craftship_codebox-npm, Function Num: 2, Prompt Type: type3\n",
      "5: Model: Artigenz-Coder-DS-6_7B, Repo: JuliaRegistries_TagBot, Function Num: 1, Prompt Type: type2\n"
     ]
    }
   ],
   "source": [
    "random.seed(0)\n",
    "def constrained_sampling(models, repos, prompt_types):\n",
    "    selected_combinations = []\n",
    "    selected_repos = set()\n",
    "    selected_prompt_types = set()\n",
    "    \n",
    "    for model in models:\n",
    "        repo = random.choice(repos)\n",
    "        while repo in selected_repos and len(selected_repos) < len(repos):\n",
    "            repo = random.choice(repos)\n",
    "        selected_repos.add(repo)\n",
    "\n",
    "        prompt_type = random.choice(prompt_types)\n",
    "        while prompt_type in selected_prompt_types and len(selected_prompt_types) < len(prompt_types):\n",
    "            prompt_type = random.choice(prompt_types)\n",
    "        selected_prompt_types.add(prompt_type)\n",
    "\n",
    "        function_num = random.randint(1, num_functions_per_repo[repos.index(repo)])\n",
    "        selected_combinations.append([model, repo, function_num, prompt_type])\n",
    "\n",
    "    return selected_combinations\n",
    "\n",
    "sampled_combinations = constrained_sampling(model_names, repo_names, type_names)\n",
    "\n",
    "for i, combination in enumerate(sampled_combinations, 1):\n",
    "    print(f\"{i}: Model: {combination[0]}, Repo: {combination[1]}, Function Num: {combination[2]}, Prompt Type: {combination[3]}\")\n"
   ]
  },
  {
   "cell_type": "markdown",
   "metadata": {},
   "source": [
    "---\n",
    "## Config Setup\n",
    "Note that the prompts are already saved in the repo, we just need to generate 3x functions"
   ]
  },
  {
   "cell_type": "code",
   "execution_count": 6,
   "metadata": {},
   "outputs": [
    {
     "data": {
      "text/plain": [
       "5"
      ]
     },
     "execution_count": 6,
     "metadata": {},
     "output_type": "execute_result"
    }
   ],
   "source": [
    "config_file_base_path = \"/home/userName/SERC/LMM+Serverless/LLM-Serverless/experiments/\"\n",
    "config_files_paths = [f\"{config_file_base_path}{repo}/function{i}/config.json\" for _, repo, i, _ in sampled_combinations]\n",
    "\n",
    "for idx, config_path in enumerate(config_files_paths):\n",
    "    if not os.path.isfile(config_path):\n",
    "        raise FileNotFoundError(f\"Config file not found: {config_path}\")\n",
    "    \n",
    "    with open(config_path, \"r\") as f:\n",
    "        config = json.load(f)\n",
    "        validate_config(config)\n",
    "        sampled_combinations[idx].append(config)\n",
    "\n",
    "\n",
    "len(sampled_combinations)\n"
   ]
  },
  {
   "cell_type": "markdown",
   "metadata": {},
   "source": [
    "---\n",
    "## Generation"
   ]
  },
  {
   "cell_type": "code",
   "execution_count": 10,
   "metadata": {},
   "outputs": [
    {
     "name": "stdout",
     "output_type": "stream",
     "text": [
      "Loaded as API: https://userName-codeqwen1-5-7b-chat.hf.space ✔\n",
      "Loaded as API: https://userName-artigenz-artigenz-coder-ds-6-7b.hf.space ✔\n"
     ]
    }
   ],
   "source": [
    "model_dict = {\n",
    "    \"GPT-3_5-Turbo\": OpenAIModel(\"gpt-3.5-turbo\"), \n",
    "    \"GPT-4\": OpenAIModel(\"gpt-4\"), \n",
    "    \"DeepSeek-Coder-V2\": DeepSeek(), \n",
    "    \"CodeQwen1_5-7B-Chat\": CodeQwen(), \n",
    "    \"Artigenz-Coder-DS-6_7B\": ArtigenzCoder()\n",
    "    }\n"
   ]
  },
  {
   "cell_type": "code",
   "execution_count": null,
   "metadata": {},
   "outputs": [],
   "source": [
    "for combination in tqdm(sampled_combinations, desc=\"Remaining configurations\"):\n",
    "    print(\"-----------------------------------\")\n",
    "    model, repo, function_num, prompt_type, conf = combination\n",
    "\n",
    "    function_generation_prompt_type1, function_generation_prompt_type2, function_generation_prompt_type3 = load_func_generation_prompts(conf)\n",
    "    function_generation_prompts = {\n",
    "        \"type1\": function_generation_prompt_type1,\n",
    "        \"type2\": function_generation_prompt_type2,\n",
    "        \"type3\": function_generation_prompt_type3\n",
    "    }\n",
    "\n",
    "    generated_function_save_dirs = {\n",
    "        \"type1\": \"consistency/\" + conf['generated_function_type1_save_dir'],\n",
    "        \"type2\": \"consistency/\" + conf['generated_function_type2_save_dir'],\n",
    "        \"type3\": \"consistency/\" + conf['generated_function_type3_save_dir']\n",
    "    }\n",
    "\n",
    "    generation_count = 3\n",
    "\n",
    "    for i in range(1, generation_count + 1):\n",
    "        generated_func = model_dict[model].generate(function_generation_prompts[prompt_type])\n",
    "        filename = conf[\"chosen_function\"].split(\".\")\n",
    "        generated_function_save_filename = f\"{filename[0]}_{i}.{filename[1]}\"\n",
    "        generated_function_save_path = f\"{generated_function_save_dirs[prompt_type]}/{model}/GENERATED-{generated_function_save_filename}\"\n",
    "        model_dict[model].write_to_file(generated_function_save_path)\n",
    "        \n",
    "        print(f\"Generated function {i} using {model} model saved to {generated_function_save_path}\")\n"
   ]
  },
  {
   "cell_type": "markdown",
   "metadata": {},
   "source": [
    "---\n",
    "## Calculating CodeBLEU between the variations"
   ]
  },
  {
   "cell_type": "code",
   "execution_count": 7,
   "metadata": {},
   "outputs": [],
   "source": [
    "languages = {\n",
    "    \"JS\": \"javascript\",\n",
    "    \"python\": \"python\",\n",
    "    \"TS\": \"javascript\"\n",
    "}\n"
   ]
  },
  {
   "cell_type": "code",
   "execution_count": 8,
   "metadata": {},
   "outputs": [],
   "source": [
    "def get_function_paths(config:dict, model_name: str, prompt_type: str, generation_num: int=1):\n",
    "    \"\"\"Get the path to original code and generated code for a specific model and prompt type.\n",
    "\n",
    "    Args:\n",
    "        config (dict): The experiment config \n",
    "        model_name (str): name of model, one of [\"GPT-3_5-Turbo\", \"GPT-4\", \"DeepSeek-Coder-V2\", \"CodeQwen1_5-7B-Chat\", \"Artigenz-Coder-DS-6_7B\"]\n",
    "        prompt_type (str): prompt type, one of [\"type1\", \"type2\", \"type3\"]\n",
    "        generation_num (int): This is the generation_num th generated function. Defaults to 1.\n",
    "    \"\"\"\n",
    "    generated_function_save_dirs = {\n",
    "        \"type1\": \"consistency/\" + config['generated_function_type1_save_dir'],\n",
    "        \"type2\": \"consistency/\" + config['generated_function_type2_save_dir'],\n",
    "        \"type3\": \"consistency/\" + config['generated_function_type3_save_dir']\n",
    "    }\n",
    "\n",
    "    filename = config['chosen_function'].split(\".\")\n",
    "    generated_function_save_filename = f\"{filename[0]}_{generation_num}.{filename[1]}\"\n",
    "    generated_function_save_path = f\"{generated_function_save_dirs[prompt_type]}/{model_name}/GENERATED-{generated_function_save_filename}\"\n",
    "\n",
    "    return generated_function_save_path\n"
   ]
  },
  {
   "cell_type": "code",
   "execution_count": 10,
   "metadata": {},
   "outputs": [],
   "source": [
    "generation_count = 3"
   ]
  },
  {
   "cell_type": "code",
   "execution_count": 13,
   "metadata": {},
   "outputs": [
    {
     "name": "stderr",
     "output_type": "stream",
     "text": [
      "Combinations: 100%|██████████| 5/5 [00:00<00:00, 25.73it/s]\n"
     ]
    }
   ],
   "source": [
    "codebleu_scores = []\n",
    "\n",
    "for combination in tqdm(sampled_combinations, desc=\"Combinations\"):\n",
    "    model_name, repo, function_num, prompt_type, conf = combination\n",
    "    single_combination_codebleus = [] # (generation_count,) entries\n",
    "    average_codebleu = 0\n",
    "\n",
    "    path_to_gen_files = []\n",
    "    for i in range(generation_count):\n",
    "        path_to_gen_files.append(get_function_paths(conf, model_name, prompt_type, i+1))\n",
    "\n",
    "    # 1,2; 2, 3 and 3, 1 codebleu\n",
    "    for i in range(generation_count):\n",
    "        func1 = path_to_gen_files[i]\n",
    "        func2 = path_to_gen_files[(i+1)%generation_count]\n",
    "        codebleu_score = codebleu_score_calculator(\n",
    "            func1,\n",
    "            func2,\n",
    "            languages[conf['language']]\n",
    "        )\n",
    "        single_combination_codebleus.append(codebleu_score['codebleu'])\n",
    "\n",
    "    average_codebleu = sum(single_combination_codebleus) / generation_count\n",
    "    codebleu_scores.append([model_name, repo, function_num, prompt_type, average_codebleu, single_combination_codebleus])\n"
   ]
  },
  {
   "cell_type": "code",
   "execution_count": 14,
   "metadata": {},
   "outputs": [
    {
     "data": {
      "text/plain": [
       "[['GPT-3_5-Turbo',\n",
       "  'StackJanitor',\n",
       "  1,\n",
       "  'type2',\n",
       "  0.5500666371329874,\n",
       "  [0.646992391476279, 0.5778897762686691, 0.425317743654014]],\n",
       " ['GPT-4',\n",
       "  'laconiajs_laconia',\n",
       "  2,\n",
       "  'type3',\n",
       "  0.4839712127756754,\n",
       "  [0.4646285093663695, 0.5337801800744644, 0.4535049488861923]],\n",
       " ['DeepSeek-Coder-V2',\n",
       "  'JuliaRegistries_TagBot',\n",
       "  1,\n",
       "  'type1',\n",
       "  0.7802244692530316,\n",
       "  [0.8785195044652396, 0.765510643194681, 0.696643260099174]],\n",
       " ['CodeQwen1_5-7B-Chat',\n",
       "  'craftship_codebox-npm',\n",
       "  2,\n",
       "  'type3',\n",
       "  0.618207376466977,\n",
       "  [0.5305804564078374, 0.6507345405708642, 0.6733071324222292]],\n",
       " ['Artigenz-Coder-DS-6_7B',\n",
       "  'JuliaRegistries_TagBot',\n",
       "  1,\n",
       "  'type2',\n",
       "  0.3650753841874325,\n",
       "  [0.3679385170769528, 0.36368823350884877, 0.36359940197649593]]]"
      ]
     },
     "execution_count": 14,
     "metadata": {},
     "output_type": "execute_result"
    }
   ],
   "source": [
    "codebleu_scores"
   ]
  },
  {
   "cell_type": "code",
   "execution_count": 15,
   "metadata": {},
   "outputs": [],
   "source": [
    "avg_codebleus_per_model = {}\n",
    "for i in range(len(model_names)):\n",
    "    model_name = model_names[i]\n",
    "    avg_codebleus_per_model[model_name] = codebleu_scores[i][4]"
   ]
  },
  {
   "cell_type": "markdown",
   "metadata": {},
   "source": [
    "---"
   ]
  },
  {
   "cell_type": "markdown",
   "metadata": {},
   "source": [
    "## Plots"
   ]
  },
  {
   "cell_type": "code",
   "execution_count": null,
   "metadata": {},
   "outputs": [],
   "source": [
    "sns.set_style(\"darkgrid\")\n",
    "plt.rcParams['font.family'] = 'serif'"
   ]
  },
  {
   "cell_type": "code",
   "execution_count": 17,
   "metadata": {},
   "outputs": [
    {
     "data": {
      "text/html": [
       "<div>\n",
       "<style scoped>\n",
       "    .dataframe tbody tr th:only-of-type {\n",
       "        vertical-align: middle;\n",
       "    }\n",
       "\n",
       "    .dataframe tbody tr th {\n",
       "        vertical-align: top;\n",
       "    }\n",
       "\n",
       "    .dataframe thead th {\n",
       "        text-align: right;\n",
       "    }\n",
       "</style>\n",
       "<table border=\"1\" class=\"dataframe\">\n",
       "  <thead>\n",
       "    <tr style=\"text-align: right;\">\n",
       "      <th></th>\n",
       "      <th>Model</th>\n",
       "      <th>Repo</th>\n",
       "      <th>Function Num</th>\n",
       "      <th>Prompt Type</th>\n",
       "      <th>Average Codebleu</th>\n",
       "      <th>Codebleus</th>\n",
       "    </tr>\n",
       "  </thead>\n",
       "  <tbody>\n",
       "    <tr>\n",
       "      <th>0</th>\n",
       "      <td>GPT-3_5-Turbo</td>\n",
       "      <td>StackJanitor</td>\n",
       "      <td>1</td>\n",
       "      <td>type2</td>\n",
       "      <td>0.550067</td>\n",
       "      <td>[0.646992391476279, 0.5778897762686691, 0.4253...</td>\n",
       "    </tr>\n",
       "    <tr>\n",
       "      <th>1</th>\n",
       "      <td>GPT-4</td>\n",
       "      <td>laconiajs_laconia</td>\n",
       "      <td>2</td>\n",
       "      <td>type3</td>\n",
       "      <td>0.483971</td>\n",
       "      <td>[0.4646285093663695, 0.5337801800744644, 0.453...</td>\n",
       "    </tr>\n",
       "    <tr>\n",
       "      <th>2</th>\n",
       "      <td>DeepSeek-Coder-V2</td>\n",
       "      <td>JuliaRegistries_TagBot</td>\n",
       "      <td>1</td>\n",
       "      <td>type1</td>\n",
       "      <td>0.780224</td>\n",
       "      <td>[0.8785195044652396, 0.765510643194681, 0.6966...</td>\n",
       "    </tr>\n",
       "    <tr>\n",
       "      <th>3</th>\n",
       "      <td>CodeQwen1_5-7B-Chat</td>\n",
       "      <td>craftship_codebox-npm</td>\n",
       "      <td>2</td>\n",
       "      <td>type3</td>\n",
       "      <td>0.618207</td>\n",
       "      <td>[0.5305804564078374, 0.6507345405708642, 0.673...</td>\n",
       "    </tr>\n",
       "    <tr>\n",
       "      <th>4</th>\n",
       "      <td>Artigenz-Coder-DS-6_7B</td>\n",
       "      <td>JuliaRegistries_TagBot</td>\n",
       "      <td>1</td>\n",
       "      <td>type2</td>\n",
       "      <td>0.365075</td>\n",
       "      <td>[0.3679385170769528, 0.36368823350884877, 0.36...</td>\n",
       "    </tr>\n",
       "  </tbody>\n",
       "</table>\n",
       "</div>"
      ],
      "text/plain": [
       "                    Model                    Repo  Function Num Prompt Type  \\\n",
       "0           GPT-3_5-Turbo            StackJanitor             1       type2   \n",
       "1                   GPT-4       laconiajs_laconia             2       type3   \n",
       "2       DeepSeek-Coder-V2  JuliaRegistries_TagBot             1       type1   \n",
       "3     CodeQwen1_5-7B-Chat   craftship_codebox-npm             2       type3   \n",
       "4  Artigenz-Coder-DS-6_7B  JuliaRegistries_TagBot             1       type2   \n",
       "\n",
       "   Average Codebleu                                          Codebleus  \n",
       "0          0.550067  [0.646992391476279, 0.5778897762686691, 0.4253...  \n",
       "1          0.483971  [0.4646285093663695, 0.5337801800744644, 0.453...  \n",
       "2          0.780224  [0.8785195044652396, 0.765510643194681, 0.6966...  \n",
       "3          0.618207  [0.5305804564078374, 0.6507345405708642, 0.673...  \n",
       "4          0.365075  [0.3679385170769528, 0.36368823350884877, 0.36...  "
      ]
     },
     "execution_count": 17,
     "metadata": {},
     "output_type": "execute_result"
    }
   ],
   "source": [
    "consistency_codebleus_df = pd.DataFrame(codebleu_scores, columns=[\"Model\", \"Repo\", \"Function Num\", \"Prompt Type\", \"Average Codebleu\", \"Codebleus\"])\n",
    "consistency_codebleus_df.head()"
   ]
  },
  {
   "cell_type": "code",
   "execution_count": 6,
   "metadata": {},
   "outputs": [],
   "source": [
    "consistency_codebleus_df.to_csv(\"csvs/consistency/consistency_Codebleu.csv\", index=False)"
   ]
  },
  {
   "cell_type": "code",
   "execution_count": 9,
   "metadata": {},
   "outputs": [
    {
     "data": {
      "text/html": [
       "<div>\n",
       "<style scoped>\n",
       "    .dataframe tbody tr th:only-of-type {\n",
       "        vertical-align: middle;\n",
       "    }\n",
       "\n",
       "    .dataframe tbody tr th {\n",
       "        vertical-align: top;\n",
       "    }\n",
       "\n",
       "    .dataframe thead th {\n",
       "        text-align: right;\n",
       "    }\n",
       "</style>\n",
       "<table border=\"1\" class=\"dataframe\">\n",
       "  <thead>\n",
       "    <tr style=\"text-align: right;\">\n",
       "      <th></th>\n",
       "      <th>Model</th>\n",
       "      <th>Repo</th>\n",
       "      <th>Function Num</th>\n",
       "      <th>Prompt Type</th>\n",
       "      <th>Average Codebleu</th>\n",
       "      <th>Codebleus</th>\n",
       "      <th>codebleu1</th>\n",
       "      <th>codebleu2</th>\n",
       "      <th>codebleu3</th>\n",
       "    </tr>\n",
       "  </thead>\n",
       "  <tbody>\n",
       "    <tr>\n",
       "      <th>0</th>\n",
       "      <td>GPT-3_5-Turbo</td>\n",
       "      <td>StackJanitor</td>\n",
       "      <td>1</td>\n",
       "      <td>type2</td>\n",
       "      <td>0.550067</td>\n",
       "      <td>[0.646992391476279, 0.5778897762686691, 0.4253...</td>\n",
       "      <td>0.646992</td>\n",
       "      <td>0.577890</td>\n",
       "      <td>0.425318</td>\n",
       "    </tr>\n",
       "    <tr>\n",
       "      <th>1</th>\n",
       "      <td>GPT-4</td>\n",
       "      <td>laconiajs_laconia</td>\n",
       "      <td>2</td>\n",
       "      <td>type3</td>\n",
       "      <td>0.483971</td>\n",
       "      <td>[0.4646285093663695, 0.5337801800744644, 0.453...</td>\n",
       "      <td>0.464629</td>\n",
       "      <td>0.533780</td>\n",
       "      <td>0.453505</td>\n",
       "    </tr>\n",
       "    <tr>\n",
       "      <th>2</th>\n",
       "      <td>DeepSeek-Coder-V2</td>\n",
       "      <td>JuliaRegistries_TagBot</td>\n",
       "      <td>1</td>\n",
       "      <td>type1</td>\n",
       "      <td>0.780224</td>\n",
       "      <td>[0.8785195044652396, 0.765510643194681, 0.6966...</td>\n",
       "      <td>0.878520</td>\n",
       "      <td>0.765511</td>\n",
       "      <td>0.696643</td>\n",
       "    </tr>\n",
       "    <tr>\n",
       "      <th>3</th>\n",
       "      <td>CodeQwen1_5-7B-Chat</td>\n",
       "      <td>craftship_codebox-npm</td>\n",
       "      <td>2</td>\n",
       "      <td>type3</td>\n",
       "      <td>0.618207</td>\n",
       "      <td>[0.5305804564078374, 0.6507345405708642, 0.673...</td>\n",
       "      <td>0.530580</td>\n",
       "      <td>0.650735</td>\n",
       "      <td>0.673307</td>\n",
       "    </tr>\n",
       "    <tr>\n",
       "      <th>4</th>\n",
       "      <td>Artigenz-Coder-DS-6_7B</td>\n",
       "      <td>JuliaRegistries_TagBot</td>\n",
       "      <td>1</td>\n",
       "      <td>type2</td>\n",
       "      <td>0.365075</td>\n",
       "      <td>[0.3679385170769528, 0.36368823350884877, 0.36...</td>\n",
       "      <td>0.367939</td>\n",
       "      <td>0.363688</td>\n",
       "      <td>0.363599</td>\n",
       "    </tr>\n",
       "  </tbody>\n",
       "</table>\n",
       "</div>"
      ],
      "text/plain": [
       "                    Model                    Repo  Function Num Prompt Type  \\\n",
       "0           GPT-3_5-Turbo            StackJanitor             1       type2   \n",
       "1                   GPT-4       laconiajs_laconia             2       type3   \n",
       "2       DeepSeek-Coder-V2  JuliaRegistries_TagBot             1       type1   \n",
       "3     CodeQwen1_5-7B-Chat   craftship_codebox-npm             2       type3   \n",
       "4  Artigenz-Coder-DS-6_7B  JuliaRegistries_TagBot             1       type2   \n",
       "\n",
       "   Average Codebleu                                          Codebleus  \\\n",
       "0          0.550067  [0.646992391476279, 0.5778897762686691, 0.4253...   \n",
       "1          0.483971  [0.4646285093663695, 0.5337801800744644, 0.453...   \n",
       "2          0.780224  [0.8785195044652396, 0.765510643194681, 0.6966...   \n",
       "3          0.618207  [0.5305804564078374, 0.6507345405708642, 0.673...   \n",
       "4          0.365075  [0.3679385170769528, 0.36368823350884877, 0.36...   \n",
       "\n",
       "   codebleu1  codebleu2  codebleu3  \n",
       "0   0.646992   0.577890   0.425318  \n",
       "1   0.464629   0.533780   0.453505  \n",
       "2   0.878520   0.765511   0.696643  \n",
       "3   0.530580   0.650735   0.673307  \n",
       "4   0.367939   0.363688   0.363599  "
      ]
     },
     "execution_count": 9,
     "metadata": {},
     "output_type": "execute_result"
    }
   ],
   "source": [
    "consistency_codebleus_df['Codebleus'] = consistency_codebleus_df['Codebleus'].apply(lambda x: ast.literal_eval(x))\n",
    "consistency_codebleus_df['codebleu1'] = consistency_codebleus_df['Codebleus'].apply(lambda x: x[0])\n",
    "consistency_codebleus_df['codebleu2'] = consistency_codebleus_df['Codebleus'].apply(lambda x: x[1])\n",
    "consistency_codebleus_df['codebleu3'] = consistency_codebleus_df['Codebleus'].apply(lambda x: x[2])\n",
    "\n",
    "consistency_codebleus_df"
   ]
  },
  {
   "cell_type": "code",
   "execution_count": 18,
   "metadata": {},
   "outputs": [
    {
     "data": {
      "image/png": "[encoded data removed]",
      "text/plain": [
       "<Figure size 1000x500 with 1 Axes>"
      ]
     },
     "metadata": {},
     "output_type": "display_data"
    }
   ],
   "source": [
    "fig, ax = plt.subplots(figsize=(10, 5))\n",
    "bar_width = 0.8\n",
    "\n",
    "ax.bar(np.arange(len(consistency_codebleus_df[\"Model\"])), consistency_codebleus_df[\"Average Codebleu\"], color=\"coral\", width=bar_width)\n",
    "ax.set_xlabel(\"Model\", fontsize=16)\n",
    "ax.set_ylabel(\"CodeBLEU Score\", fontsize=16)\n",
    "ax.set_ylim(0, 1)\n",
    "ax.set_xticks(np.arange(len(consistency_codebleus_df[\"Model\"])))\n",
    "ax.set_xticklabels([\"Artigenz-Coder-DS-6.7B\", \"CodeQwen1.5-7B-Chat\", \"DeepSeek-Coder-V2\", \"GPT-3.5-Turbo\", \"GPT-4\"], rotation=35)\n",
    "\n",
    "plt.savefig(\"plots/consistency_codebleu_scores.png\", dpi=1200, bbox_inches='tight')\n",
    "plt.show()"
   ]
  },
  {
   "cell_type": "code",
   "execution_count": 12,
   "metadata": {},
   "outputs": [
    {
     "data": {
      "image/png": "[encoded data removed]",
      "text/plain": [
       "<Figure size 1000x500 with 1 Axes>"
      ]
     },
     "metadata": {},
     "output_type": "display_data"
    }
   ],
   "source": [
    "fig, ax = plt.subplots(figsize=(10, 5))\n",
    "\n",
    "colors = [\"darkblue\", \"coral\", \"mediumturquoise\"]\n",
    "labels = [\"1st Generation\", \"2nd Generation\", \"3rd Generation\"]\n",
    "\n",
    "bar_width = 0.25\n",
    "x = np.arange(len(consistency_codebleus_df[\"Model\"]))\n",
    "\n",
    "for i, (label, color) in enumerate(zip(labels, colors)):\n",
    "    ax.bar(x + i * bar_width, consistency_codebleus_df[f\"codebleu{i+1}\"], width=bar_width, label=label, color=color)\n",
    "\n",
    "ax.set_xlabel(\"Model\", fontsize=16)\n",
    "ax.set_ylabel(\"CodeBLEU Score\", fontsize=16)\n",
    "ax.set_ylim(0, 0.9)\n",
    "ax.set_xticks(x + bar_width * 1.5)\n",
    "ax.set_xticklabels([\"Artigenz-\\nCoder-DS-6.7B\", \"CodeQwen1.5-\\n7B-Chat\", \"DeepSeek\\n-Coder-V2\", \"GPT-3.5-\\nTurbo\", \"GPT-4\"], rotation=25)\n",
    "ax.legend(fontsize=12)\n",
    "\n",
    "plt.tight_layout()\n",
    "plt.savefig(\"plots/consistency_codebleu_scores.png\", dpi=1200, bbox_inches='tight')\n",
    "plt.show()"
   ]
  },
  {
   "cell_type": "markdown",
   "metadata": {},
   "source": [
    "---\n",
    "## Calculating code metrics between variations"
   ]
  },
  {
   "cell_type": "code",
   "execution_count": 19,
   "metadata": {},
   "outputs": [],
   "source": [
    "measure_loc = True\n",
    "measure_cyc_complexity = True\n",
    "measure_cog_complexity = True\n",
    "measure_halstead = True"
   ]
  },
  {
   "cell_type": "code",
   "execution_count": 23,
   "metadata": {},
   "outputs": [],
   "source": [
    "loc_data = [] # repo_name, function_num, prompt_type, model, average_loc, locs\n",
    "cc_data = [] # repo_name, function_num, prompt_type, model, average_cc, ccs\n",
    "cog_data = [] # repo_name, function_num, prompt_type, model, average_cog, cogs\n",
    "halstead_data = [] # repo_name, function_num, prompt_type, model, average_halstead, halsteads"
   ]
  },
  {
   "cell_type": "code",
   "execution_count": 24,
   "metadata": {},
   "outputs": [],
   "source": [
    "cc_functions = {'python': get_cc_py, 'JS': get_cc_js, 'TS': get_cc_js}\n",
    "cogc_functions = {'python': get_cog_complexity_py, 'JS': get_cog_complexity_js, 'TS': get_cog_complexity_js}\n",
    "halstead_functions = {'python': get_halstead_py, 'JS': get_halstead_js, 'TS': get_halstead_js}"
   ]
  },
  {
   "cell_type": "code",
   "execution_count": 25,
   "metadata": {},
   "outputs": [
    {
     "name": "stderr",
     "output_type": "stream",
     "text": [
      "combinations:   0%|          | 0/5 [00:00<?, ?it/s]"
     ]
    },
    {
     "name": "stdout",
     "output_type": "stream",
     "text": [
      "calculating metrics for StackJanitor-func-1-prompt-type2-model-GPT-3_5-Turbo-gen-1\n",
      "calculating metrics for StackJanitor-func-1-prompt-type2-model-GPT-3_5-Turbo-gen-2\n",
      "calculating metrics for StackJanitor-func-1-prompt-type2-model-GPT-3_5-Turbo-gen-3\n"
     ]
    },
    {
     "name": "stderr",
     "output_type": "stream",
     "text": [
      "combinations:  20%|██        | 1/5 [00:03<00:13,  3.36s/it]"
     ]
    },
    {
     "name": "stdout",
     "output_type": "stream",
     "text": [
      "calculating metrics for laconiajs_laconia-func-2-prompt-type3-model-GPT-4-gen-1\n",
      "calculating metrics for laconiajs_laconia-func-2-prompt-type3-model-GPT-4-gen-2\n",
      "calculating metrics for laconiajs_laconia-func-2-prompt-type3-model-GPT-4-gen-3\n"
     ]
    },
    {
     "name": "stderr",
     "output_type": "stream",
     "text": [
      "combinations:  40%|████      | 2/5 [00:06<00:08,  2.99s/it]"
     ]
    },
    {
     "name": "stdout",
     "output_type": "stream",
     "text": [
      "calculating metrics for JuliaRegistries_TagBot-func-1-prompt-type1-model-DeepSeek-Coder-V2-gen-1\n",
      "calculating metrics for JuliaRegistries_TagBot-func-1-prompt-type1-model-DeepSeek-Coder-V2-gen-2\n",
      "calculating metrics for JuliaRegistries_TagBot-func-1-prompt-type1-model-DeepSeek-Coder-V2-gen-3\n",
      "calculating metrics for craftship_codebox-npm-func-2-prompt-type3-model-CodeQwen1_5-7B-Chat-gen-1\n",
      "calculating metrics for craftship_codebox-npm-func-2-prompt-type3-model-CodeQwen1_5-7B-Chat-gen-2\n",
      "calculating metrics for craftship_codebox-npm-func-2-prompt-type3-model-CodeQwen1_5-7B-Chat-gen-3\n"
     ]
    },
    {
     "name": "stderr",
     "output_type": "stream",
     "text": [
      "combinations: 100%|██████████| 5/5 [00:08<00:00,  1.78s/it]"
     ]
    },
    {
     "name": "stdout",
     "output_type": "stream",
     "text": [
      "calculating metrics for JuliaRegistries_TagBot-func-1-prompt-type2-model-Artigenz-Coder-DS-6_7B-gen-1\n",
      "calculating metrics for JuliaRegistries_TagBot-func-1-prompt-type2-model-Artigenz-Coder-DS-6_7B-gen-2\n",
      "calculating metrics for JuliaRegistries_TagBot-func-1-prompt-type2-model-Artigenz-Coder-DS-6_7B-gen-3\n"
     ]
    },
    {
     "name": "stderr",
     "output_type": "stream",
     "text": [
      "\n"
     ]
    }
   ],
   "source": [
    "for combination in tqdm(sampled_combinations, desc=\"combinations\"):\n",
    "    model_name, repo, function_num, prompt_type, conf = combination\n",
    "    single_combination_locs = []\n",
    "    single_combination_ccs = []\n",
    "    single_combination_cogs = []\n",
    "    single_combination_halsteads = []\n",
    "    average_loc, average_cc, average_cog, average_halstead = 0, 0, 0, 0\n",
    "\n",
    "    path_to_gen_files = []\n",
    "    for i in range(generation_count):\n",
    "        path_to_gen_files.append(get_function_paths(conf, model_name, prompt_type, i+1))\n",
    "\n",
    "    for i in range(generation_count):\n",
    "        print(f\"calculating metrics for {repo}-func-{function_num}-prompt-{prompt_type}-model-{model_name}-gen-{i+1}\")\n",
    "        loc = get_loc(path_to_gen_files[i])\n",
    "        cc = cc_functions[conf['language']](path_to_gen_files[i])\n",
    "        cog = cogc_functions[conf['language']](path_to_gen_files[i])\n",
    "        halstead = halstead_functions[conf['language']](path_to_gen_files[i])\n",
    "\n",
    "        single_combination_locs.append(loc)\n",
    "        single_combination_ccs.append(cc)\n",
    "        single_combination_cogs.append(cog)\n",
    "        single_combination_halsteads.append(halstead)\n",
    "\n",
    "    average_loc = sum(single_combination_locs) / generation_count\n",
    "    average_cc = sum(single_combination_ccs) / generation_count\n",
    "    average_cog = sum(single_combination_cogs) / generation_count\n",
    "    average_halstead = sum(single_combination_halsteads) / generation_count\n",
    "\n",
    "    loc_data.append([repo, function_num, prompt_type, model_name, average_loc, single_combination_locs])\n",
    "    cc_data.append([repo, function_num, prompt_type, model_name, average_cc, single_combination_ccs])\n",
    "    cog_data.append([repo, function_num, prompt_type, model_name, average_cog, single_combination_cogs])\n",
    "    halstead_data.append([repo, function_num, prompt_type, model_name, average_halstead, single_combination_halsteads])\n"
   ]
  },
  {
   "cell_type": "code",
   "execution_count": 26,
   "metadata": {},
   "outputs": [
    {
     "data": {
      "text/plain": [
       "{'GPT-3_5-Turbo': {'LOC': 16.0,\n",
       "  'CC': 4.333333333333333,\n",
       "  'COG': 1.3333333333333333,\n",
       "  'Halstead': 305.66866666666664},\n",
       " 'GPT-4': {'LOC': 38.333333333333336,\n",
       "  'CC': 6.333333333333333,\n",
       "  'COG': 3.3333333333333335,\n",
       "  'Halstead': 1433.8326666666665},\n",
       " 'DeepSeek-Coder-V2': {'LOC': 59.666666666666664,\n",
       "  'CC': 17.0,\n",
       "  'COG': 10.666666666666666,\n",
       "  'Halstead': 76.12899592752422},\n",
       " 'CodeQwen1_5-7B-Chat': {'LOC': 41.0,\n",
       "  'CC': 3.3333333333333335,\n",
       "  'COG': 6.333333333333333,\n",
       "  'Halstead': 1308.3363333333334},\n",
       " 'Artigenz-Coder-DS-6_7B': {'LOC': 45.666666666666664,\n",
       "  'CC': 15.0,\n",
       "  'COG': 11.0,\n",
       "  'Halstead': 78.38534710851853}}"
      ]
     },
     "execution_count": 26,
     "metadata": {},
     "output_type": "execute_result"
    }
   ],
   "source": [
    "avg_metrics_per_model = {}\n",
    "for i in range(len(model_names)):\n",
    "    model_name = model_names[i]\n",
    "    avg_metrics_per_model[model_name] = {\n",
    "        \"LOC\": loc_data[i][4],\n",
    "        \"CC\": cc_data[i][4],\n",
    "        \"COG\": cog_data[i][4],\n",
    "        \"Halstead\": halstead_data[i][4]\n",
    "    }\n",
    "\n",
    "avg_metrics_per_model"
   ]
  },
  {
   "cell_type": "code",
   "execution_count": 27,
   "metadata": {},
   "outputs": [
    {
     "data": {
      "text/html": [
       "<div>\n",
       "<style scoped>\n",
       "    .dataframe tbody tr th:only-of-type {\n",
       "        vertical-align: middle;\n",
       "    }\n",
       "\n",
       "    .dataframe tbody tr th {\n",
       "        vertical-align: top;\n",
       "    }\n",
       "\n",
       "    .dataframe thead th {\n",
       "        text-align: right;\n",
       "    }\n",
       "</style>\n",
       "<table border=\"1\" class=\"dataframe\">\n",
       "  <thead>\n",
       "    <tr style=\"text-align: right;\">\n",
       "      <th></th>\n",
       "      <th>LOC</th>\n",
       "      <th>CC</th>\n",
       "      <th>COG</th>\n",
       "      <th>Halstead</th>\n",
       "    </tr>\n",
       "  </thead>\n",
       "  <tbody>\n",
       "    <tr>\n",
       "      <th>GPT-3_5-Turbo</th>\n",
       "      <td>16.000000</td>\n",
       "      <td>4.333333</td>\n",
       "      <td>1.333333</td>\n",
       "      <td>305.668667</td>\n",
       "    </tr>\n",
       "    <tr>\n",
       "      <th>GPT-4</th>\n",
       "      <td>38.333333</td>\n",
       "      <td>6.333333</td>\n",
       "      <td>3.333333</td>\n",
       "      <td>1433.832667</td>\n",
       "    </tr>\n",
       "    <tr>\n",
       "      <th>DeepSeek-Coder-V2</th>\n",
       "      <td>59.666667</td>\n",
       "      <td>17.000000</td>\n",
       "      <td>10.666667</td>\n",
       "      <td>76.128996</td>\n",
       "    </tr>\n",
       "    <tr>\n",
       "      <th>CodeQwen1_5-7B-Chat</th>\n",
       "      <td>41.000000</td>\n",
       "      <td>3.333333</td>\n",
       "      <td>6.333333</td>\n",
       "      <td>1308.336333</td>\n",
       "    </tr>\n",
       "    <tr>\n",
       "      <th>Artigenz-Coder-DS-6_7B</th>\n",
       "      <td>45.666667</td>\n",
       "      <td>15.000000</td>\n",
       "      <td>11.000000</td>\n",
       "      <td>78.385347</td>\n",
       "    </tr>\n",
       "  </tbody>\n",
       "</table>\n",
       "</div>"
      ],
      "text/plain": [
       "                              LOC         CC        COG     Halstead\n",
       "GPT-3_5-Turbo           16.000000   4.333333   1.333333   305.668667\n",
       "GPT-4                   38.333333   6.333333   3.333333  1433.832667\n",
       "DeepSeek-Coder-V2       59.666667  17.000000  10.666667    76.128996\n",
       "CodeQwen1_5-7B-Chat     41.000000   3.333333   6.333333  1308.336333\n",
       "Artigenz-Coder-DS-6_7B  45.666667  15.000000  11.000000    78.385347"
      ]
     },
     "execution_count": 27,
     "metadata": {},
     "output_type": "execute_result"
    }
   ],
   "source": [
    "average_metrics_df = pd.DataFrame(avg_metrics_per_model, index=[\"LOC\", \"CC\", \"COG\", \"Halstead\"]).T\n",
    "average_metrics_df.to_csv(\"csvs/consistency_average_metrics.csv\", index=True)\n",
    "average_metrics_df.head()"
   ]
  },
  {
   "cell_type": "code",
   "execution_count": 30,
   "metadata": {},
   "outputs": [],
   "source": [
    "loc_data_df = pd.DataFrame(loc_data, columns=[\"Repo\", \"Function Num\", \"Prompt Type\", \"Model\", \"Average LOC\", \"LOCs\"])\n",
    "cc_data_df = pd.DataFrame(cc_data, columns=[\"Repo\", \"Function Num\", \"Prompt Type\", \"Model\", \"Average CC\", \"CCs\"])\n",
    "cog_data_df = pd.DataFrame(cog_data, columns=[\"Repo\", \"Function Num\", \"Prompt Type\", \"Model\", \"Average COG\", \"COGs\"])\n",
    "halstead_data_df = pd.DataFrame(halstead_data, columns=[\"Repo\", \"Function Num\", \"Prompt Type\", \"Model\", \"Average Halstead\", \"Halsteads\"])"
   ]
  },
  {
   "cell_type": "code",
   "execution_count": 31,
   "metadata": {},
   "outputs": [],
   "source": [
    "dfs = [loc_data_df, cc_data_df, cog_data_df, halstead_data_df]\n",
    "names = [\"LOC\", \"CC\", \"COG\", \"Halstead\"]\n",
    "for i in range(len(dfs)):\n",
    "    dfs[i].to_csv(f\"csvs/consistency/consistency_{names[i]}.csv\", index=False)"
   ]
  },
  {
   "cell_type": "markdown",
   "metadata": {},
   "source": [
    "---"
   ]
  }
 ],
 "metadata": {
  "kernelspec": {
   "display_name": ".venv",
   "language": "python",
   "name": "python3"
  },
  "language_info": {
   "codemirror_mode": {
    "name": "ipython",
    "version": 3
   },
   "file_extension": ".py",
   "mimetype": "text/x-python",
   "name": "python",
   "nbconvert_exporter": "python",
   "pygments_lexer": "ipython3",
   "version": "3.11.5"
  }
 },
 "nbformat": 4,
 "nbformat_minor": 2
}
